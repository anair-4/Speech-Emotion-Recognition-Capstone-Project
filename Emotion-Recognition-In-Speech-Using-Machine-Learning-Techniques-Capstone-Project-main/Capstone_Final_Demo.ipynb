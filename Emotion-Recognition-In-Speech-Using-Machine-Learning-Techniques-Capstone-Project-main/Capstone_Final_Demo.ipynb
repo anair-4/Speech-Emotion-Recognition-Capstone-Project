{
  "nbformat": 4,
  "nbformat_minor": 0,
  "metadata": {
    "colab": {
      "name": "Capstone_Final_Demo.ipynb",
      "provenance": [],
      "toc_visible": true
    },
    "kernelspec": {
      "name": "python3",
      "display_name": "Python 3"
    },
    "language_info": {
      "name": "python"
    }
  },
  "cells": [
    {
      "cell_type": "code",
      "metadata": {
        "id": "0Z6JFK7NY-Q2"
      },
      "source": [
        "import librosa\n",
        "import librosa.display\n",
        "import numpy as np\n",
        "import matplotlib.pyplot as plt\n",
        "import tensorflow as tf\n",
        "from matplotlib.pyplot import specgram\n",
        "from sklearn.utils import shuffle\n",
        "import keras\n",
        "from keras.preprocessing import sequence\n",
        "from keras.models import Sequential\n",
        "from keras.layers import Dense, Embedding\n",
        "from keras.layers import LSTM\n",
        "from keras.preprocessing.text import Tokenizer\n",
        "from keras.preprocessing.sequence import pad_sequences\n",
        "from keras.utils import to_categorical\n",
        "from keras.layers import Input, Flatten, Dropout, Activation\n",
        "from keras.layers import Conv1D, MaxPooling1D, AveragePooling1D\n",
        "from keras.models import Model\n",
        "from keras.callbacks import ModelCheckpoint\n",
        "from sklearn.metrics import confusion_matrix\n",
        "from keras import regularizers\n",
        "from sklearn.ensemble import AdaBoostClassifier\n",
        "\n",
        "from sklearn.linear_model import LogisticRegression\n",
        "from sklearn.model_selection import train_test_split\n",
        "\n",
        "import joblib\n",
        "from keras.models import model_from_json\n",
        "import os\n",
        "import pandas as pd\n",
        "import glob \n",
        "import matplotlib.pyplot as plt\n",
        "import scipy.io.wavfile\n",
        "import numpy as np\n",
        "import sys\n",
        "\n",
        "import seaborn as sns\n",
        "\n",
        "from sklearn import preprocessing, svm \n",
        "from sklearn import tree\n",
        "from sklearn import neighbors\n",
        "\n",
        "from sklearn.model_selection import train_test_split \n",
        "\n",
        "from sklearn.linear_model import LinearRegression \n",
        "from sklearn.linear_model import LogisticRegression\n",
        "\n",
        "from sklearn.metrics import confusion_matrix\n",
        "from sklearn.metrics import accuracy_score\n",
        "from sklearn.metrics import classification_report\n",
        "from sklearn.metrics import mean_squared_error \n",
        "\n",
        "from sklearn.tree import DecisionTreeClassifier\n",
        "\n",
        "from sklearn.preprocessing import MinMaxScaler, StandardScaler\n",
        "\n",
        "from sklearn.ensemble import RandomForestRegressor, RandomForestClassifier\n",
        "\n",
        "from sklearn.neighbors import KNeighborsClassifier\n",
        "\n",
        "from sklearn.naive_bayes import GaussianNB\n",
        "\n",
        "from scipy.stats import pearsonr\n",
        "\n",
        "\n",
        "from math import sqrt\n",
        "import matplotlib.pyplot as plt\n",
        "%matplotlib inline\n",
        "\n",
        "from xgboost import XGBRegressor\n",
        "from xgboost import XGBClassifier\n",
        "\n",
        "from random import seed\n",
        "from random import randrange\n",
        "from csv import reader\n",
        "from math import sqrt\n",
        "\n",
        "\n",
        "\n",
        "from sklearn.metrics import accuracy_score, confusion_matrix"
      ],
      "execution_count": null,
      "outputs": []
    },
    {
      "cell_type": "markdown",
      "metadata": {
        "id": "H2h-Trdk7CLa"
      },
      "source": [
        "## Naive Bayes"
      ]
    },
    {
      "cell_type": "code",
      "metadata": {
        "colab": {
          "resources": {
            "http://localhost:8080/nbextensions/google.colab/files.js": {
              "data": "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",
              "ok": true,
              "headers": [
                [
                  "content-type",
                  "application/javascript"
                ]
              ],
              "status": 200,
              "status_text": ""
            }
          },
          "base_uri": "https://localhost:8080/",
          "height": 73
        },
        "id": "vs1eYOEiZYAG",
        "outputId": "53a58adb-9106-4229-e37a-dfb3143713ad"
      },
      "source": [
        "from google.colab import files\n",
        "uploaded = files.upload()"
      ],
      "execution_count": null,
      "outputs": [
        {
          "output_type": "display_data",
          "data": {
            "text/html": [
              "\n",
              "     <input type=\"file\" id=\"files-83d8dff7-5de3-45bf-b455-e80e035576bb\" name=\"files[]\" multiple disabled\n",
              "        style=\"border:none\" />\n",
              "     <output id=\"result-83d8dff7-5de3-45bf-b455-e80e035576bb\">\n",
              "      Upload widget is only available when the cell has been executed in the\n",
              "      current browser session. Please rerun this cell to enable.\n",
              "      </output>\n",
              "      <script src=\"/nbextensions/google.colab/files.js\"></script> "
            ],
            "text/plain": [
              "<IPython.core.display.HTML object>"
            ]
          },
          "metadata": {
            "tags": []
          }
        },
        {
          "output_type": "stream",
          "text": [
            "Saving GNB.sav to GNB.sav\n"
          ],
          "name": "stdout"
        }
      ]
    },
    {
      "cell_type": "code",
      "metadata": {
        "id": "t1M_GvbhND0v"
      },
      "source": [
        "gnb = joblib.load('GNB.sav')"
      ],
      "execution_count": null,
      "outputs": []
    },
    {
      "cell_type": "code",
      "metadata": {
        "colab": {
          "base_uri": "https://localhost:8080/"
        },
        "id": "nwwG7QLaO0yA",
        "outputId": "760897e8-7220-41df-b778-e8095360fa3b"
      },
      "source": [
        "gnb"
      ],
      "execution_count": null,
      "outputs": [
        {
          "output_type": "execute_result",
          "data": {
            "text/plain": [
              "GaussianNB(priors=None, var_smoothing=1e-09)"
            ]
          },
          "metadata": {
            "tags": []
          },
          "execution_count": 4
        }
      ]
    },
    {
      "cell_type": "markdown",
      "metadata": {
        "id": "EjZ80K5C7FAJ"
      },
      "source": [
        "## Random Forest"
      ]
    },
    {
      "cell_type": "code",
      "metadata": {
        "colab": {
          "resources": {
            "http://localhost:8080/nbextensions/google.colab/files.js": {
              "data": "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",
              "ok": true,
              "headers": [
                [
                  "content-type",
                  "application/javascript"
                ]
              ],
              "status": 200,
              "status_text": ""
            }
          },
          "base_uri": "https://localhost:8080/",
          "height": 73
        },
        "id": "HhHB7xLHPAe6",
        "outputId": "d94e5674-7023-48d1-892d-9b4ad712820b"
      },
      "source": [
        "from google.colab import files\n",
        "uploaded = files.upload()"
      ],
      "execution_count": null,
      "outputs": [
        {
          "output_type": "display_data",
          "data": {
            "text/html": [
              "\n",
              "     <input type=\"file\" id=\"files-c9e77298-e566-48f2-97ec-d4be6622314f\" name=\"files[]\" multiple disabled\n",
              "        style=\"border:none\" />\n",
              "     <output id=\"result-c9e77298-e566-48f2-97ec-d4be6622314f\">\n",
              "      Upload widget is only available when the cell has been executed in the\n",
              "      current browser session. Please rerun this cell to enable.\n",
              "      </output>\n",
              "      <script src=\"/nbextensions/google.colab/files.js\"></script> "
            ],
            "text/plain": [
              "<IPython.core.display.HTML object>"
            ]
          },
          "metadata": {
            "tags": []
          }
        },
        {
          "output_type": "stream",
          "text": [
            "Saving RF.sav to RF.sav\n"
          ],
          "name": "stdout"
        }
      ]
    },
    {
      "cell_type": "code",
      "metadata": {
        "id": "CsfpY5IAPD_a"
      },
      "source": [
        "rf = joblib.load('RF.sav')"
      ],
      "execution_count": null,
      "outputs": []
    },
    {
      "cell_type": "code",
      "metadata": {
        "colab": {
          "base_uri": "https://localhost:8080/"
        },
        "id": "b9dFFsBMSrCF",
        "outputId": "d3944567-e595-4370-8853-feeb7dedf854"
      },
      "source": [
        "rf"
      ],
      "execution_count": null,
      "outputs": [
        {
          "output_type": "execute_result",
          "data": {
            "text/plain": [
              "RandomForestClassifier(bootstrap=True, ccp_alpha=0.0, class_weight=None,\n",
              "                       criterion='entropy', max_depth=None, max_features='auto',\n",
              "                       max_leaf_nodes=None, max_samples=None,\n",
              "                       min_impurity_decrease=0.0, min_impurity_split=None,\n",
              "                       min_samples_leaf=1, min_samples_split=2,\n",
              "                       min_weight_fraction_leaf=0.0, n_estimators=200,\n",
              "                       n_jobs=None, oob_score=False, random_state=100,\n",
              "                       verbose=0, warm_start=False)"
            ]
          },
          "metadata": {
            "tags": []
          },
          "execution_count": 7
        }
      ]
    },
    {
      "cell_type": "markdown",
      "metadata": {
        "id": "M4wuFeSi7H2a"
      },
      "source": [
        "## Logistic Regression"
      ]
    },
    {
      "cell_type": "code",
      "metadata": {
        "colab": {
          "resources": {
            "http://localhost:8080/nbextensions/google.colab/files.js": {
              "data": "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",
              "ok": true,
              "headers": [
                [
                  "content-type",
                  "application/javascript"
                ]
              ],
              "status": 200,
              "status_text": ""
            }
          },
          "base_uri": "https://localhost:8080/",
          "height": 73
        },
        "id": "ovLWZtTnSuv2",
        "outputId": "799088f1-7cd7-4299-faeb-10e8a9334ed6"
      },
      "source": [
        "from google.colab import files\n",
        "uploaded = files.upload()"
      ],
      "execution_count": null,
      "outputs": [
        {
          "output_type": "display_data",
          "data": {
            "text/html": [
              "\n",
              "     <input type=\"file\" id=\"files-303dfed1-520d-45f3-8d9c-e953f679c19e\" name=\"files[]\" multiple disabled\n",
              "        style=\"border:none\" />\n",
              "     <output id=\"result-303dfed1-520d-45f3-8d9c-e953f679c19e\">\n",
              "      Upload widget is only available when the cell has been executed in the\n",
              "      current browser session. Please rerun this cell to enable.\n",
              "      </output>\n",
              "      <script src=\"/nbextensions/google.colab/files.js\"></script> "
            ],
            "text/plain": [
              "<IPython.core.display.HTML object>"
            ]
          },
          "metadata": {
            "tags": []
          }
        },
        {
          "output_type": "stream",
          "text": [
            "Saving LogReg.sav to LogReg.sav\n"
          ],
          "name": "stdout"
        }
      ]
    },
    {
      "cell_type": "code",
      "metadata": {
        "id": "SWV4j1pN96Zj"
      },
      "source": [
        "logreg = joblib.load('LogReg.sav')"
      ],
      "execution_count": null,
      "outputs": []
    },
    {
      "cell_type": "code",
      "metadata": {
        "colab": {
          "base_uri": "https://localhost:8080/"
        },
        "id": "lxewWxmb9_gQ",
        "outputId": "f313bb8d-f294-4cf3-f0a6-f8e6d6a11e7c"
      },
      "source": [
        "logreg"
      ],
      "execution_count": null,
      "outputs": [
        {
          "output_type": "execute_result",
          "data": {
            "text/plain": [
              "LogisticRegression(C=1.0, class_weight=None, dual=False, fit_intercept=True,\n",
              "                   intercept_scaling=1, l1_ratio=None, max_iter=1500,\n",
              "                   multi_class='multinomial', n_jobs=None, penalty='l2',\n",
              "                   random_state=None, solver='lbfgs', tol=0.0001, verbose=0,\n",
              "                   warm_start=False)"
            ]
          },
          "metadata": {
            "tags": []
          },
          "execution_count": 10
        }
      ]
    },
    {
      "cell_type": "markdown",
      "metadata": {
        "id": "sCT6C0Fn7Jch"
      },
      "source": [
        "## AdaBoost"
      ]
    },
    {
      "cell_type": "code",
      "metadata": {
        "colab": {
          "resources": {
            "http://localhost:8080/nbextensions/google.colab/files.js": {
              "data": "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",
              "ok": true,
              "headers": [
                [
                  "content-type",
                  "application/javascript"
                ]
              ],
              "status": 200,
              "status_text": ""
            }
          },
          "base_uri": "https://localhost:8080/",
          "height": 73
        },
        "id": "QGqWdN1V7Kc6",
        "outputId": "2bf89f08-bf00-4ed2-85a9-91061eee72fc"
      },
      "source": [
        "from google.colab import files\n",
        "uploaded = files.upload()"
      ],
      "execution_count": null,
      "outputs": [
        {
          "output_type": "display_data",
          "data": {
            "text/html": [
              "\n",
              "     <input type=\"file\" id=\"files-94ead03d-0e6f-4878-b766-3245abcd1a2f\" name=\"files[]\" multiple disabled\n",
              "        style=\"border:none\" />\n",
              "     <output id=\"result-94ead03d-0e6f-4878-b766-3245abcd1a2f\">\n",
              "      Upload widget is only available when the cell has been executed in the\n",
              "      current browser session. Please rerun this cell to enable.\n",
              "      </output>\n",
              "      <script src=\"/nbextensions/google.colab/files.js\"></script> "
            ],
            "text/plain": [
              "<IPython.core.display.HTML object>"
            ]
          },
          "metadata": {
            "tags": []
          }
        },
        {
          "output_type": "stream",
          "text": [
            "Saving ADB.sav to ADB.sav\n"
          ],
          "name": "stdout"
        }
      ]
    },
    {
      "cell_type": "code",
      "metadata": {
        "id": "iCu1ybvU-ICy"
      },
      "source": [
        "adb = joblib.load('ADB.sav')"
      ],
      "execution_count": null,
      "outputs": []
    },
    {
      "cell_type": "code",
      "metadata": {
        "colab": {
          "base_uri": "https://localhost:8080/"
        },
        "id": "c5_7xPli-M13",
        "outputId": "bd7da5c3-067b-43ff-d277-d757e1fc810f"
      },
      "source": [
        "adb"
      ],
      "execution_count": null,
      "outputs": [
        {
          "output_type": "execute_result",
          "data": {
            "text/plain": [
              "AdaBoostClassifier(algorithm='SAMME.R', base_estimator=None, learning_rate=0.1,\n",
              "                   n_estimators=100, random_state=75)"
            ]
          },
          "metadata": {
            "tags": []
          },
          "execution_count": 13
        }
      ]
    },
    {
      "cell_type": "markdown",
      "metadata": {
        "id": "UymHcUhZ7K7N"
      },
      "source": [
        "## Decision Tree Gini"
      ]
    },
    {
      "cell_type": "code",
      "metadata": {
        "colab": {
          "resources": {
            "http://localhost:8080/nbextensions/google.colab/files.js": {
              "data": "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",
              "ok": true,
              "headers": [
                [
                  "content-type",
                  "application/javascript"
                ]
              ],
              "status": 200,
              "status_text": ""
            }
          },
          "base_uri": "https://localhost:8080/",
          "height": 73
        },
        "id": "8U3SoxQN7MN2",
        "outputId": "f11fbcc0-8f83-4498-a68e-1bfcc2cff9cf"
      },
      "source": [
        "from google.colab import files\n",
        "uploaded = files.upload()"
      ],
      "execution_count": null,
      "outputs": [
        {
          "output_type": "display_data",
          "data": {
            "text/html": [
              "\n",
              "     <input type=\"file\" id=\"files-4006a38f-10b7-4c76-81f1-f97a282d792d\" name=\"files[]\" multiple disabled\n",
              "        style=\"border:none\" />\n",
              "     <output id=\"result-4006a38f-10b7-4c76-81f1-f97a282d792d\">\n",
              "      Upload widget is only available when the cell has been executed in the\n",
              "      current browser session. Please rerun this cell to enable.\n",
              "      </output>\n",
              "      <script src=\"/nbextensions/google.colab/files.js\"></script> "
            ],
            "text/plain": [
              "<IPython.core.display.HTML object>"
            ]
          },
          "metadata": {
            "tags": []
          }
        },
        {
          "output_type": "stream",
          "text": [
            "Saving D_Tree_G.sav to D_Tree_G.sav\n"
          ],
          "name": "stdout"
        }
      ]
    },
    {
      "cell_type": "code",
      "metadata": {
        "id": "t4qKfJEF-O-X"
      },
      "source": [
        "dtree_g = joblib.load('D_Tree_G.sav')"
      ],
      "execution_count": null,
      "outputs": []
    },
    {
      "cell_type": "code",
      "metadata": {
        "colab": {
          "base_uri": "https://localhost:8080/"
        },
        "id": "c4O2vFED-WDd",
        "outputId": "25095691-750c-44d1-c222-7cc69ff9ea22"
      },
      "source": [
        "dtree_g"
      ],
      "execution_count": null,
      "outputs": [
        {
          "output_type": "execute_result",
          "data": {
            "text/plain": [
              "DecisionTreeClassifier(ccp_alpha=0.0, class_weight=None, criterion='gini',\n",
              "                       max_depth=5, max_features=None, max_leaf_nodes=None,\n",
              "                       min_impurity_decrease=0.0, min_impurity_split=None,\n",
              "                       min_samples_leaf=5, min_samples_split=2,\n",
              "                       min_weight_fraction_leaf=0.0, presort='deprecated',\n",
              "                       random_state=121, splitter='best')"
            ]
          },
          "metadata": {
            "tags": []
          },
          "execution_count": 16
        }
      ]
    },
    {
      "cell_type": "markdown",
      "metadata": {
        "id": "Yl2f9SY_7M0p"
      },
      "source": [
        "## Decision Tree Entropy"
      ]
    },
    {
      "cell_type": "code",
      "metadata": {
        "colab": {
          "resources": {
            "http://localhost:8080/nbextensions/google.colab/files.js": {
              "data": "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",
              "ok": true,
              "headers": [
                [
                  "content-type",
                  "application/javascript"
                ]
              ],
              "status": 200,
              "status_text": ""
            }
          },
          "base_uri": "https://localhost:8080/",
          "height": 73
        },
        "id": "ojvBwyj87OHa",
        "outputId": "f32e9b3a-cba5-497e-9a15-4586c62359a6"
      },
      "source": [
        "from google.colab import files\n",
        "uploaded = files.upload()"
      ],
      "execution_count": null,
      "outputs": [
        {
          "output_type": "display_data",
          "data": {
            "text/html": [
              "\n",
              "     <input type=\"file\" id=\"files-8f96c836-8931-423b-b314-999ebc438ada\" name=\"files[]\" multiple disabled\n",
              "        style=\"border:none\" />\n",
              "     <output id=\"result-8f96c836-8931-423b-b314-999ebc438ada\">\n",
              "      Upload widget is only available when the cell has been executed in the\n",
              "      current browser session. Please rerun this cell to enable.\n",
              "      </output>\n",
              "      <script src=\"/nbextensions/google.colab/files.js\"></script> "
            ],
            "text/plain": [
              "<IPython.core.display.HTML object>"
            ]
          },
          "metadata": {
            "tags": []
          }
        },
        {
          "output_type": "stream",
          "text": [
            "Saving D_Tree_E.sav to D_Tree_E.sav\n"
          ],
          "name": "stdout"
        }
      ]
    },
    {
      "cell_type": "code",
      "metadata": {
        "id": "w_UhRlTl-ZIO"
      },
      "source": [
        "dtree_e = joblib.load('D_Tree_E.sav')"
      ],
      "execution_count": null,
      "outputs": []
    },
    {
      "cell_type": "code",
      "metadata": {
        "colab": {
          "base_uri": "https://localhost:8080/"
        },
        "id": "cQfy9HIs-bbA",
        "outputId": "bda0ab7a-db59-4556-c9c3-1b0f895300c2"
      },
      "source": [
        "dtree_e"
      ],
      "execution_count": null,
      "outputs": [
        {
          "output_type": "execute_result",
          "data": {
            "text/plain": [
              "DecisionTreeClassifier(ccp_alpha=0.0, class_weight=None, criterion='entropy',\n",
              "                       max_depth=7, max_features=None, max_leaf_nodes=None,\n",
              "                       min_impurity_decrease=0.0, min_impurity_split=None,\n",
              "                       min_samples_leaf=5, min_samples_split=2,\n",
              "                       min_weight_fraction_leaf=0.0, presort='deprecated',\n",
              "                       random_state=100, splitter='best')"
            ]
          },
          "metadata": {
            "tags": []
          },
          "execution_count": 19
        }
      ]
    },
    {
      "cell_type": "markdown",
      "metadata": {
        "id": "SmMcsSoA7Ob0"
      },
      "source": [
        "## KNN"
      ]
    },
    {
      "cell_type": "code",
      "metadata": {
        "colab": {
          "resources": {
            "http://localhost:8080/nbextensions/google.colab/files.js": {
              "data": "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",
              "ok": true,
              "headers": [
                [
                  "content-type",
                  "application/javascript"
                ]
              ],
              "status": 200,
              "status_text": ""
            }
          },
          "base_uri": "https://localhost:8080/",
          "height": 73
        },
        "id": "8YqE9Tsi7PRG",
        "outputId": "399dc1cb-1dee-44bc-9283-db378e527998"
      },
      "source": [
        "from google.colab import files\n",
        "uploaded = files.upload()"
      ],
      "execution_count": null,
      "outputs": [
        {
          "output_type": "display_data",
          "data": {
            "text/html": [
              "\n",
              "     <input type=\"file\" id=\"files-400eed58-6e32-4467-8511-6a624d9549da\" name=\"files[]\" multiple disabled\n",
              "        style=\"border:none\" />\n",
              "     <output id=\"result-400eed58-6e32-4467-8511-6a624d9549da\">\n",
              "      Upload widget is only available when the cell has been executed in the\n",
              "      current browser session. Please rerun this cell to enable.\n",
              "      </output>\n",
              "      <script src=\"/nbextensions/google.colab/files.js\"></script> "
            ],
            "text/plain": [
              "<IPython.core.display.HTML object>"
            ]
          },
          "metadata": {
            "tags": []
          }
        },
        {
          "output_type": "stream",
          "text": [
            "Saving KNN.sav to KNN.sav\n"
          ],
          "name": "stdout"
        }
      ]
    },
    {
      "cell_type": "code",
      "metadata": {
        "id": "GXUOXM0D-yyk"
      },
      "source": [
        "knn = joblib.load('KNN.sav')"
      ],
      "execution_count": null,
      "outputs": []
    },
    {
      "cell_type": "code",
      "metadata": {
        "colab": {
          "base_uri": "https://localhost:8080/"
        },
        "id": "kOwyXBKN-3x4",
        "outputId": "82e3dbe3-ccb4-4f4b-e300-659a8b3893ab"
      },
      "source": [
        "knn"
      ],
      "execution_count": null,
      "outputs": [
        {
          "output_type": "execute_result",
          "data": {
            "text/plain": [
              "KNeighborsClassifier(algorithm='auto', leaf_size=30, metric='minkowski',\n",
              "                     metric_params=None, n_jobs=None, n_neighbors=5, p=2,\n",
              "                     weights='uniform')"
            ]
          },
          "metadata": {
            "tags": []
          },
          "execution_count": 24
        }
      ]
    },
    {
      "cell_type": "markdown",
      "metadata": {
        "id": "7DiWilom7PjQ"
      },
      "source": [
        "## CNN"
      ]
    },
    {
      "cell_type": "code",
      "metadata": {
        "colab": {
          "resources": {
            "http://localhost:8080/nbextensions/google.colab/files.js": {
              "data": "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",
              "ok": true,
              "headers": [
                [
                  "content-type",
                  "application/javascript"
                ]
              ],
              "status": 200,
              "status_text": ""
            }
          },
          "base_uri": "https://localhost:8080/",
          "height": 73
        },
        "id": "uLwZQrA87QQZ",
        "outputId": "187c5bd7-18d0-428a-857b-23a1584b009a"
      },
      "source": [
        "from google.colab import files\n",
        "uploaded = files.upload()"
      ],
      "execution_count": null,
      "outputs": [
        {
          "output_type": "display_data",
          "data": {
            "text/html": [
              "\n",
              "     <input type=\"file\" id=\"files-9bfdb43e-2276-4b8a-91b0-5b0916a510d2\" name=\"files[]\" multiple disabled\n",
              "        style=\"border:none\" />\n",
              "     <output id=\"result-9bfdb43e-2276-4b8a-91b0-5b0916a510d2\">\n",
              "      Upload widget is only available when the cell has been executed in the\n",
              "      current browser session. Please rerun this cell to enable.\n",
              "      </output>\n",
              "      <script src=\"/nbextensions/google.colab/files.js\"></script> "
            ],
            "text/plain": [
              "<IPython.core.display.HTML object>"
            ]
          },
          "metadata": {
            "tags": []
          }
        },
        {
          "output_type": "stream",
          "text": [
            "Saving cnn.json to cnn.json\n"
          ],
          "name": "stdout"
        }
      ]
    },
    {
      "cell_type": "code",
      "metadata": {
        "colab": {
          "resources": {
            "http://localhost:8080/nbextensions/google.colab/files.js": {
              "data": "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",
              "ok": true,
              "headers": [
                [
                  "content-type",
                  "application/javascript"
                ]
              ],
              "status": 200,
              "status_text": ""
            }
          },
          "base_uri": "https://localhost:8080/",
          "height": 73
        },
        "id": "S_ee6FVl_Fmk",
        "outputId": "c2c622f0-b6c9-49a3-fc4c-109240da0c93"
      },
      "source": [
        "from google.colab import files\n",
        "uploaded = files.upload()"
      ],
      "execution_count": null,
      "outputs": [
        {
          "output_type": "display_data",
          "data": {
            "text/html": [
              "\n",
              "     <input type=\"file\" id=\"files-8cca594e-414b-4506-8d90-b1316123b3a7\" name=\"files[]\" multiple disabled\n",
              "        style=\"border:none\" />\n",
              "     <output id=\"result-8cca594e-414b-4506-8d90-b1316123b3a7\">\n",
              "      Upload widget is only available when the cell has been executed in the\n",
              "      current browser session. Please rerun this cell to enable.\n",
              "      </output>\n",
              "      <script src=\"/nbextensions/google.colab/files.js\"></script> "
            ],
            "text/plain": [
              "<IPython.core.display.HTML object>"
            ]
          },
          "metadata": {
            "tags": []
          }
        },
        {
          "output_type": "stream",
          "text": [
            "Saving cnn.h5 to cnn.h5\n"
          ],
          "name": "stdout"
        }
      ]
    },
    {
      "cell_type": "code",
      "metadata": {
        "id": "QturEY_f_IAi"
      },
      "source": [
        "json_file = open('cnn.json','r')\n",
        "loaded_cnn_json = json_file.read()\n",
        "json_file.close()\n",
        "loaded_cnn = model_from_json(loaded_cnn_json)\n",
        "loaded_cnn.load_weights(\"cnn.h5\")\n",
        "opt = keras.optimizers.RMSprop(lr=0.00001, decay=1e-6)\n",
        "loaded_cnn.compile(loss='categorical_crossentropy', optimizer=opt,metrics=['accuracy'])"
      ],
      "execution_count": null,
      "outputs": []
    },
    {
      "cell_type": "markdown",
      "metadata": {
        "id": "ij7Xn7uG7lKX"
      },
      "source": [
        "## Dataset"
      ]
    },
    {
      "cell_type": "code",
      "metadata": {
        "colab": {
          "resources": {
            "http://localhost:8080/nbextensions/google.colab/files.js": {
              "data": "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",
              "ok": true,
              "headers": [
                [
                  "content-type",
                  "application/javascript"
                ]
              ],
              "status": 200,
              "status_text": ""
            }
          },
          "base_uri": "https://localhost:8080/",
          "height": 73
        },
        "id": "rFJG0rMr7pAl",
        "outputId": "5f2af11a-3eda-4348-88d6-55ba18e0452d"
      },
      "source": [
        "from google.colab import files\n",
        "uploaded = files.upload()"
      ],
      "execution_count": null,
      "outputs": [
        {
          "output_type": "display_data",
          "data": {
            "text/html": [
              "\n",
              "     <input type=\"file\" id=\"files-8ed0a708-84d1-4886-adb6-d31539da58a6\" name=\"files[]\" multiple disabled\n",
              "        style=\"border:none\" />\n",
              "     <output id=\"result-8ed0a708-84d1-4886-adb6-d31539da58a6\">\n",
              "      Upload widget is only available when the cell has been executed in the\n",
              "      current browser session. Please rerun this cell to enable.\n",
              "      </output>\n",
              "      <script src=\"/nbextensions/google.colab/files.js\"></script> "
            ],
            "text/plain": [
              "<IPython.core.display.HTML object>"
            ]
          },
          "metadata": {
            "tags": []
          }
        },
        {
          "output_type": "stream",
          "text": [
            "Saving Test_Clips_1.csv to Test_Clips_1.csv\n"
          ],
          "name": "stdout"
        }
      ]
    },
    {
      "cell_type": "code",
      "metadata": {
        "id": "eHxTOSbf_RoH"
      },
      "source": [
        "df = pd.read_csv('Test_Clips_1.csv')\n",
        "\n",
        "df = df.fillna(0)"
      ],
      "execution_count": null,
      "outputs": []
    },
    {
      "cell_type": "code",
      "metadata": {
        "id": "IjaW23DK_caF"
      },
      "source": [
        "df.drop('Unnamed: 0',axis=1,inplace=True)"
      ],
      "execution_count": null,
      "outputs": []
    },
    {
      "cell_type": "code",
      "metadata": {
        "colab": {
          "base_uri": "https://localhost:8080/",
          "height": 451
        },
        "id": "Zm_u5-FE_hkY",
        "outputId": "9829c6a2-444f-4940-f121-3a0509b67e9f"
      },
      "source": [
        "df"
      ],
      "execution_count": null,
      "outputs": [
        {
          "output_type": "execute_result",
          "data": {
            "text/html": [
              "<div>\n",
              "<style scoped>\n",
              "    .dataframe tbody tr th:only-of-type {\n",
              "        vertical-align: middle;\n",
              "    }\n",
              "\n",
              "    .dataframe tbody tr th {\n",
              "        vertical-align: top;\n",
              "    }\n",
              "\n",
              "    .dataframe thead th {\n",
              "        text-align: right;\n",
              "    }\n",
              "</style>\n",
              "<table border=\"1\" class=\"dataframe\">\n",
              "  <thead>\n",
              "    <tr style=\"text-align: right;\">\n",
              "      <th></th>\n",
              "      <th>0</th>\n",
              "      <th>1</th>\n",
              "      <th>2</th>\n",
              "      <th>3</th>\n",
              "      <th>4</th>\n",
              "      <th>5</th>\n",
              "      <th>6</th>\n",
              "      <th>7</th>\n",
              "      <th>8</th>\n",
              "      <th>9</th>\n",
              "      <th>10</th>\n",
              "      <th>11</th>\n",
              "      <th>12</th>\n",
              "      <th>13</th>\n",
              "      <th>14</th>\n",
              "      <th>15</th>\n",
              "      <th>16</th>\n",
              "      <th>17</th>\n",
              "      <th>18</th>\n",
              "      <th>19</th>\n",
              "      <th>20</th>\n",
              "      <th>21</th>\n",
              "      <th>22</th>\n",
              "      <th>23</th>\n",
              "      <th>24</th>\n",
              "      <th>25</th>\n",
              "      <th>26</th>\n",
              "      <th>27</th>\n",
              "      <th>28</th>\n",
              "      <th>29</th>\n",
              "      <th>30</th>\n",
              "      <th>31</th>\n",
              "      <th>32</th>\n",
              "      <th>33</th>\n",
              "      <th>34</th>\n",
              "      <th>35</th>\n",
              "      <th>36</th>\n",
              "      <th>37</th>\n",
              "      <th>38</th>\n",
              "      <th>39</th>\n",
              "      <th>...</th>\n",
              "      <th>180</th>\n",
              "      <th>181</th>\n",
              "      <th>182</th>\n",
              "      <th>183</th>\n",
              "      <th>184</th>\n",
              "      <th>185</th>\n",
              "      <th>186</th>\n",
              "      <th>187</th>\n",
              "      <th>188</th>\n",
              "      <th>189</th>\n",
              "      <th>190</th>\n",
              "      <th>191</th>\n",
              "      <th>192</th>\n",
              "      <th>193</th>\n",
              "      <th>194</th>\n",
              "      <th>195</th>\n",
              "      <th>196</th>\n",
              "      <th>197</th>\n",
              "      <th>198</th>\n",
              "      <th>199</th>\n",
              "      <th>200</th>\n",
              "      <th>201</th>\n",
              "      <th>202</th>\n",
              "      <th>203</th>\n",
              "      <th>204</th>\n",
              "      <th>205</th>\n",
              "      <th>206</th>\n",
              "      <th>207</th>\n",
              "      <th>208</th>\n",
              "      <th>209</th>\n",
              "      <th>210</th>\n",
              "      <th>211</th>\n",
              "      <th>212</th>\n",
              "      <th>213</th>\n",
              "      <th>214</th>\n",
              "      <th>215</th>\n",
              "      <th>0.1</th>\n",
              "      <th>0.2</th>\n",
              "      <th>0.3</th>\n",
              "      <th>0.4</th>\n",
              "    </tr>\n",
              "  </thead>\n",
              "  <tbody>\n",
              "    <tr>\n",
              "      <th>0</th>\n",
              "      <td>-11.014460</td>\n",
              "      <td>-13.728128</td>\n",
              "      <td>-17.660004</td>\n",
              "      <td>-16.514824</td>\n",
              "      <td>-16.004210</td>\n",
              "      <td>-17.886162</td>\n",
              "      <td>-19.818199</td>\n",
              "      <td>-20.007641</td>\n",
              "      <td>-16.751900</td>\n",
              "      <td>-17.895878</td>\n",
              "      <td>-16.702629</td>\n",
              "      <td>-16.349924</td>\n",
              "      <td>-17.678389</td>\n",
              "      <td>-20.520172</td>\n",
              "      <td>-18.939838</td>\n",
              "      <td>-16.614258</td>\n",
              "      <td>-19.457043</td>\n",
              "      <td>-20.118717</td>\n",
              "      <td>-20.759911</td>\n",
              "      <td>-19.697828</td>\n",
              "      <td>-18.630159</td>\n",
              "      <td>-18.536272</td>\n",
              "      <td>-17.785515</td>\n",
              "      <td>-18.164696</td>\n",
              "      <td>-21.332762</td>\n",
              "      <td>-23.459459</td>\n",
              "      <td>-18.588875</td>\n",
              "      <td>-17.879553</td>\n",
              "      <td>-19.198586</td>\n",
              "      <td>-21.951794</td>\n",
              "      <td>-24.679979</td>\n",
              "      <td>-25.581978</td>\n",
              "      <td>-21.708290</td>\n",
              "      <td>-20.540091</td>\n",
              "      <td>-19.950487</td>\n",
              "      <td>-20.062971</td>\n",
              "      <td>-20.415554</td>\n",
              "      <td>-19.312428</td>\n",
              "      <td>-18.731352</td>\n",
              "      <td>-19.465801</td>\n",
              "      <td>...</td>\n",
              "      <td>-11.005655</td>\n",
              "      <td>-10.116663</td>\n",
              "      <td>-10.112986</td>\n",
              "      <td>-9.854547</td>\n",
              "      <td>-11.418269</td>\n",
              "      <td>-13.682600</td>\n",
              "      <td>-15.743953</td>\n",
              "      <td>-14.089492</td>\n",
              "      <td>-13.443708</td>\n",
              "      <td>-13.216263</td>\n",
              "      <td>-18.900776</td>\n",
              "      <td>-21.546833</td>\n",
              "      <td>-18.394819</td>\n",
              "      <td>-16.610680</td>\n",
              "      <td>-13.919073</td>\n",
              "      <td>-13.766137</td>\n",
              "      <td>-13.991070</td>\n",
              "      <td>-14.109838</td>\n",
              "      <td>-13.678583</td>\n",
              "      <td>-14.241969</td>\n",
              "      <td>-16.335634</td>\n",
              "      <td>-17.409901</td>\n",
              "      <td>-16.809599</td>\n",
              "      <td>-14.697377</td>\n",
              "      <td>-15.431675</td>\n",
              "      <td>-17.629751</td>\n",
              "      <td>-17.783716</td>\n",
              "      <td>-18.030758</td>\n",
              "      <td>-17.274088</td>\n",
              "      <td>-16.474924</td>\n",
              "      <td>-18.255814</td>\n",
              "      <td>-19.948561</td>\n",
              "      <td>-21.287376</td>\n",
              "      <td>-23.608059</td>\n",
              "      <td>-19.482897</td>\n",
              "      <td>-16.538425</td>\n",
              "      <td>242.307692</td>\n",
              "      <td>9.877799</td>\n",
              "      <td>sarcasm</td>\n",
              "      <td>SAR1.wav</td>\n",
              "    </tr>\n",
              "    <tr>\n",
              "      <th>1</th>\n",
              "      <td>-15.793550</td>\n",
              "      <td>-14.479053</td>\n",
              "      <td>-15.768708</td>\n",
              "      <td>-18.641258</td>\n",
              "      <td>-17.874107</td>\n",
              "      <td>-16.920488</td>\n",
              "      <td>-17.442272</td>\n",
              "      <td>-16.632637</td>\n",
              "      <td>-17.819231</td>\n",
              "      <td>-18.182875</td>\n",
              "      <td>-16.456114</td>\n",
              "      <td>-16.110050</td>\n",
              "      <td>-16.122221</td>\n",
              "      <td>-16.171581</td>\n",
              "      <td>-16.502193</td>\n",
              "      <td>-16.220715</td>\n",
              "      <td>-14.943018</td>\n",
              "      <td>-16.246769</td>\n",
              "      <td>-15.474578</td>\n",
              "      <td>-13.761420</td>\n",
              "      <td>-12.650707</td>\n",
              "      <td>-13.236430</td>\n",
              "      <td>-14.875747</td>\n",
              "      <td>-13.055038</td>\n",
              "      <td>-13.354296</td>\n",
              "      <td>-15.714976</td>\n",
              "      <td>-17.800142</td>\n",
              "      <td>-15.043943</td>\n",
              "      <td>-14.686569</td>\n",
              "      <td>-15.914027</td>\n",
              "      <td>-13.802914</td>\n",
              "      <td>-13.406567</td>\n",
              "      <td>-13.048910</td>\n",
              "      <td>-13.548128</td>\n",
              "      <td>-11.752665</td>\n",
              "      <td>-12.045635</td>\n",
              "      <td>-13.715881</td>\n",
              "      <td>-12.768270</td>\n",
              "      <td>-10.072077</td>\n",
              "      <td>-11.199890</td>\n",
              "      <td>...</td>\n",
              "      <td>-16.714638</td>\n",
              "      <td>-16.953753</td>\n",
              "      <td>-16.913979</td>\n",
              "      <td>-15.851765</td>\n",
              "      <td>-15.387633</td>\n",
              "      <td>-15.072419</td>\n",
              "      <td>-16.609062</td>\n",
              "      <td>-16.732698</td>\n",
              "      <td>-16.318392</td>\n",
              "      <td>-15.330153</td>\n",
              "      <td>-15.833688</td>\n",
              "      <td>-17.045515</td>\n",
              "      <td>-16.092299</td>\n",
              "      <td>-16.221981</td>\n",
              "      <td>-14.936127</td>\n",
              "      <td>-15.042090</td>\n",
              "      <td>-16.620907</td>\n",
              "      <td>-14.862963</td>\n",
              "      <td>-14.442289</td>\n",
              "      <td>-16.902786</td>\n",
              "      <td>-16.590000</td>\n",
              "      <td>-16.633955</td>\n",
              "      <td>-16.468031</td>\n",
              "      <td>-16.895836</td>\n",
              "      <td>-17.900784</td>\n",
              "      <td>-16.118694</td>\n",
              "      <td>-14.238750</td>\n",
              "      <td>-14.805220</td>\n",
              "      <td>-15.818145</td>\n",
              "      <td>-16.492088</td>\n",
              "      <td>-15.298700</td>\n",
              "      <td>-14.927423</td>\n",
              "      <td>-15.885423</td>\n",
              "      <td>-17.238487</td>\n",
              "      <td>-16.358568</td>\n",
              "      <td>-16.660313</td>\n",
              "      <td>177.777778</td>\n",
              "      <td>12.193555</td>\n",
              "      <td>sadness</td>\n",
              "      <td>SAD2.wav</td>\n",
              "    </tr>\n",
              "    <tr>\n",
              "      <th>2</th>\n",
              "      <td>-10.728317</td>\n",
              "      <td>-12.746290</td>\n",
              "      <td>-17.757929</td>\n",
              "      <td>-14.574193</td>\n",
              "      <td>-14.285773</td>\n",
              "      <td>-14.766641</td>\n",
              "      <td>-14.547663</td>\n",
              "      <td>-13.494988</td>\n",
              "      <td>-13.450343</td>\n",
              "      <td>-14.696441</td>\n",
              "      <td>-14.278203</td>\n",
              "      <td>-13.715997</td>\n",
              "      <td>-13.501308</td>\n",
              "      <td>-13.791350</td>\n",
              "      <td>-14.719102</td>\n",
              "      <td>-18.193554</td>\n",
              "      <td>-24.476118</td>\n",
              "      <td>-27.786028</td>\n",
              "      <td>-27.398396</td>\n",
              "      <td>-26.979195</td>\n",
              "      <td>-25.128418</td>\n",
              "      <td>-25.387203</td>\n",
              "      <td>-28.245819</td>\n",
              "      <td>-19.483936</td>\n",
              "      <td>-16.134575</td>\n",
              "      <td>-14.592123</td>\n",
              "      <td>-14.261734</td>\n",
              "      <td>-14.173815</td>\n",
              "      <td>-13.978045</td>\n",
              "      <td>-14.279558</td>\n",
              "      <td>-14.407172</td>\n",
              "      <td>-14.258147</td>\n",
              "      <td>-14.393321</td>\n",
              "      <td>-14.904374</td>\n",
              "      <td>-15.166188</td>\n",
              "      <td>-15.193979</td>\n",
              "      <td>-15.787831</td>\n",
              "      <td>-17.556398</td>\n",
              "      <td>-19.125448</td>\n",
              "      <td>-19.988285</td>\n",
              "      <td>...</td>\n",
              "      <td>-20.871189</td>\n",
              "      <td>-22.233921</td>\n",
              "      <td>-19.175198</td>\n",
              "      <td>-20.264290</td>\n",
              "      <td>-21.682442</td>\n",
              "      <td>-21.271904</td>\n",
              "      <td>-20.894600</td>\n",
              "      <td>-19.788454</td>\n",
              "      <td>-17.888525</td>\n",
              "      <td>-15.056710</td>\n",
              "      <td>-15.009032</td>\n",
              "      <td>-15.128623</td>\n",
              "      <td>-20.095512</td>\n",
              "      <td>-28.907227</td>\n",
              "      <td>-31.757427</td>\n",
              "      <td>-28.966749</td>\n",
              "      <td>-29.763458</td>\n",
              "      <td>-17.323641</td>\n",
              "      <td>-12.785542</td>\n",
              "      <td>-13.950721</td>\n",
              "      <td>-15.323236</td>\n",
              "      <td>-15.787330</td>\n",
              "      <td>-15.946662</td>\n",
              "      <td>-14.996500</td>\n",
              "      <td>-14.223026</td>\n",
              "      <td>-13.870319</td>\n",
              "      <td>-14.023500</td>\n",
              "      <td>-13.715936</td>\n",
              "      <td>-13.217222</td>\n",
              "      <td>-13.201043</td>\n",
              "      <td>-13.265620</td>\n",
              "      <td>-13.760360</td>\n",
              "      <td>-14.062688</td>\n",
              "      <td>-14.585799</td>\n",
              "      <td>-16.353695</td>\n",
              "      <td>-18.433563</td>\n",
              "      <td>258.064516</td>\n",
              "      <td>11.770717</td>\n",
              "      <td>anger</td>\n",
              "      <td>ANG1.wav</td>\n",
              "    </tr>\n",
              "    <tr>\n",
              "      <th>3</th>\n",
              "      <td>-10.505746</td>\n",
              "      <td>-10.557508</td>\n",
              "      <td>-11.143297</td>\n",
              "      <td>-10.161523</td>\n",
              "      <td>-9.140228</td>\n",
              "      <td>-9.695555</td>\n",
              "      <td>-8.707957</td>\n",
              "      <td>-6.285563</td>\n",
              "      <td>-4.032925</td>\n",
              "      <td>-4.855814</td>\n",
              "      <td>-7.812320</td>\n",
              "      <td>-11.660192</td>\n",
              "      <td>-17.766321</td>\n",
              "      <td>-14.438134</td>\n",
              "      <td>-7.230930</td>\n",
              "      <td>-5.551696</td>\n",
              "      <td>-6.237275</td>\n",
              "      <td>-8.597355</td>\n",
              "      <td>-8.491020</td>\n",
              "      <td>-6.500621</td>\n",
              "      <td>-8.051365</td>\n",
              "      <td>-10.663864</td>\n",
              "      <td>-13.655799</td>\n",
              "      <td>-20.335276</td>\n",
              "      <td>-23.140331</td>\n",
              "      <td>-25.019033</td>\n",
              "      <td>-23.885012</td>\n",
              "      <td>-24.067024</td>\n",
              "      <td>-25.205647</td>\n",
              "      <td>-25.022270</td>\n",
              "      <td>-23.076582</td>\n",
              "      <td>-22.901072</td>\n",
              "      <td>-22.814697</td>\n",
              "      <td>-10.505382</td>\n",
              "      <td>-7.694690</td>\n",
              "      <td>-8.982870</td>\n",
              "      <td>-7.729104</td>\n",
              "      <td>-8.023431</td>\n",
              "      <td>-7.838265</td>\n",
              "      <td>-8.119558</td>\n",
              "      <td>...</td>\n",
              "      <td>-7.252980</td>\n",
              "      <td>-6.334002</td>\n",
              "      <td>-5.492877</td>\n",
              "      <td>-5.626005</td>\n",
              "      <td>-7.722611</td>\n",
              "      <td>-14.176815</td>\n",
              "      <td>-14.988291</td>\n",
              "      <td>-12.258704</td>\n",
              "      <td>-15.746737</td>\n",
              "      <td>-22.393562</td>\n",
              "      <td>-26.969173</td>\n",
              "      <td>-28.822252</td>\n",
              "      <td>-27.265560</td>\n",
              "      <td>-29.330982</td>\n",
              "      <td>-19.669741</td>\n",
              "      <td>-10.558420</td>\n",
              "      <td>-6.360513</td>\n",
              "      <td>-5.150708</td>\n",
              "      <td>-5.510244</td>\n",
              "      <td>-6.543590</td>\n",
              "      <td>-6.148323</td>\n",
              "      <td>-6.452629</td>\n",
              "      <td>-7.156578</td>\n",
              "      <td>-7.461504</td>\n",
              "      <td>-6.974090</td>\n",
              "      <td>-8.524652</td>\n",
              "      <td>-9.656802</td>\n",
              "      <td>-7.822206</td>\n",
              "      <td>-6.955296</td>\n",
              "      <td>-6.738076</td>\n",
              "      <td>-7.429216</td>\n",
              "      <td>-8.947301</td>\n",
              "      <td>-9.794353</td>\n",
              "      <td>-9.126889</td>\n",
              "      <td>-6.187553</td>\n",
              "      <td>-3.303124</td>\n",
              "      <td>200.000000</td>\n",
              "      <td>13.752558</td>\n",
              "      <td>neutral</td>\n",
              "      <td>NEU1.wav</td>\n",
              "    </tr>\n",
              "    <tr>\n",
              "      <th>4</th>\n",
              "      <td>-2.969997</td>\n",
              "      <td>-4.719795</td>\n",
              "      <td>-1.848656</td>\n",
              "      <td>1.217577</td>\n",
              "      <td>-1.287035</td>\n",
              "      <td>-5.322466</td>\n",
              "      <td>-3.652644</td>\n",
              "      <td>-2.032567</td>\n",
              "      <td>-5.955170</td>\n",
              "      <td>-9.156565</td>\n",
              "      <td>-8.611881</td>\n",
              "      <td>-8.072613</td>\n",
              "      <td>-8.243143</td>\n",
              "      <td>-8.198928</td>\n",
              "      <td>-6.925825</td>\n",
              "      <td>-5.364983</td>\n",
              "      <td>-4.915359</td>\n",
              "      <td>-7.139854</td>\n",
              "      <td>-14.953047</td>\n",
              "      <td>-15.853499</td>\n",
              "      <td>-13.100495</td>\n",
              "      <td>-12.778804</td>\n",
              "      <td>-5.407514</td>\n",
              "      <td>-3.601679</td>\n",
              "      <td>-5.449890</td>\n",
              "      <td>-6.452208</td>\n",
              "      <td>-3.959128</td>\n",
              "      <td>-5.980114</td>\n",
              "      <td>-12.514482</td>\n",
              "      <td>-17.892153</td>\n",
              "      <td>-21.430187</td>\n",
              "      <td>-21.601391</td>\n",
              "      <td>-21.163073</td>\n",
              "      <td>-17.944731</td>\n",
              "      <td>-11.022192</td>\n",
              "      <td>-7.929677</td>\n",
              "      <td>-3.250998</td>\n",
              "      <td>-0.550610</td>\n",
              "      <td>-1.355287</td>\n",
              "      <td>-3.991280</td>\n",
              "      <td>...</td>\n",
              "      <td>-3.586292</td>\n",
              "      <td>-4.376525</td>\n",
              "      <td>-4.710562</td>\n",
              "      <td>-4.560153</td>\n",
              "      <td>-4.889730</td>\n",
              "      <td>-3.491592</td>\n",
              "      <td>-2.624641</td>\n",
              "      <td>-6.758288</td>\n",
              "      <td>-14.328059</td>\n",
              "      <td>-19.547237</td>\n",
              "      <td>-17.433743</td>\n",
              "      <td>-13.884571</td>\n",
              "      <td>-16.981331</td>\n",
              "      <td>-24.100554</td>\n",
              "      <td>-19.672573</td>\n",
              "      <td>-13.580796</td>\n",
              "      <td>-12.240810</td>\n",
              "      <td>-14.037730</td>\n",
              "      <td>-5.571839</td>\n",
              "      <td>-2.510840</td>\n",
              "      <td>-3.104449</td>\n",
              "      <td>-5.923870</td>\n",
              "      <td>-7.527391</td>\n",
              "      <td>-7.170432</td>\n",
              "      <td>-6.457666</td>\n",
              "      <td>-6.965677</td>\n",
              "      <td>-7.193982</td>\n",
              "      <td>-8.469297</td>\n",
              "      <td>-7.536212</td>\n",
              "      <td>-6.845573</td>\n",
              "      <td>-7.106854</td>\n",
              "      <td>-8.502460</td>\n",
              "      <td>-10.846317</td>\n",
              "      <td>-10.731597</td>\n",
              "      <td>-4.616987</td>\n",
              "      <td>1.853903</td>\n",
              "      <td>170.212766</td>\n",
              "      <td>13.402286</td>\n",
              "      <td>neutral</td>\n",
              "      <td>NEU2.wav</td>\n",
              "    </tr>\n",
              "    <tr>\n",
              "      <th>5</th>\n",
              "      <td>-11.147923</td>\n",
              "      <td>-11.445167</td>\n",
              "      <td>-15.937591</td>\n",
              "      <td>-13.511199</td>\n",
              "      <td>-12.528314</td>\n",
              "      <td>-13.442221</td>\n",
              "      <td>-12.975239</td>\n",
              "      <td>-12.984517</td>\n",
              "      <td>-13.481948</td>\n",
              "      <td>-11.566530</td>\n",
              "      <td>-9.047473</td>\n",
              "      <td>-10.050248</td>\n",
              "      <td>-12.793416</td>\n",
              "      <td>-14.254693</td>\n",
              "      <td>-13.519195</td>\n",
              "      <td>-14.546107</td>\n",
              "      <td>-14.801975</td>\n",
              "      <td>-13.832419</td>\n",
              "      <td>-13.537716</td>\n",
              "      <td>-18.741184</td>\n",
              "      <td>-14.749766</td>\n",
              "      <td>-13.966051</td>\n",
              "      <td>-16.507311</td>\n",
              "      <td>-18.568392</td>\n",
              "      <td>-22.198130</td>\n",
              "      <td>-22.541216</td>\n",
              "      <td>-21.340984</td>\n",
              "      <td>-27.696852</td>\n",
              "      <td>-27.182627</td>\n",
              "      <td>-24.016541</td>\n",
              "      <td>-25.640413</td>\n",
              "      <td>-24.170359</td>\n",
              "      <td>-26.680363</td>\n",
              "      <td>-29.533873</td>\n",
              "      <td>-28.712276</td>\n",
              "      <td>-24.076088</td>\n",
              "      <td>-22.833719</td>\n",
              "      <td>-16.729927</td>\n",
              "      <td>-14.188959</td>\n",
              "      <td>-16.977308</td>\n",
              "      <td>...</td>\n",
              "      <td>-25.145124</td>\n",
              "      <td>-18.636805</td>\n",
              "      <td>-14.734072</td>\n",
              "      <td>-15.405764</td>\n",
              "      <td>-18.116741</td>\n",
              "      <td>-21.299889</td>\n",
              "      <td>-19.517809</td>\n",
              "      <td>-21.332273</td>\n",
              "      <td>-26.051727</td>\n",
              "      <td>-28.983212</td>\n",
              "      <td>-29.000181</td>\n",
              "      <td>-31.695763</td>\n",
              "      <td>-27.370083</td>\n",
              "      <td>-21.551350</td>\n",
              "      <td>-18.465025</td>\n",
              "      <td>-18.251940</td>\n",
              "      <td>-19.079117</td>\n",
              "      <td>-18.895699</td>\n",
              "      <td>-19.538206</td>\n",
              "      <td>-19.385962</td>\n",
              "      <td>-17.947847</td>\n",
              "      <td>-17.792591</td>\n",
              "      <td>-17.917952</td>\n",
              "      <td>-17.117653</td>\n",
              "      <td>-16.922935</td>\n",
              "      <td>-16.984854</td>\n",
              "      <td>-16.672262</td>\n",
              "      <td>-15.053018</td>\n",
              "      <td>-15.692529</td>\n",
              "      <td>-17.659344</td>\n",
              "      <td>-19.087311</td>\n",
              "      <td>-19.083172</td>\n",
              "      <td>-18.561689</td>\n",
              "      <td>-18.052862</td>\n",
              "      <td>-14.007442</td>\n",
              "      <td>-8.619171</td>\n",
              "      <td>326.530612</td>\n",
              "      <td>12.707078</td>\n",
              "      <td>happiness</td>\n",
              "      <td>HAP1.wav</td>\n",
              "    </tr>\n",
              "    <tr>\n",
              "      <th>6</th>\n",
              "      <td>-11.804499</td>\n",
              "      <td>-13.321313</td>\n",
              "      <td>-16.988020</td>\n",
              "      <td>-17.507057</td>\n",
              "      <td>-15.274395</td>\n",
              "      <td>-14.809097</td>\n",
              "      <td>-15.339401</td>\n",
              "      <td>-18.251244</td>\n",
              "      <td>-29.204815</td>\n",
              "      <td>-33.094692</td>\n",
              "      <td>-33.991550</td>\n",
              "      <td>-35.393936</td>\n",
              "      <td>-31.224602</td>\n",
              "      <td>-18.514540</td>\n",
              "      <td>-11.815777</td>\n",
              "      <td>-12.556815</td>\n",
              "      <td>-15.843508</td>\n",
              "      <td>-17.391548</td>\n",
              "      <td>-20.025280</td>\n",
              "      <td>-23.891603</td>\n",
              "      <td>-26.729063</td>\n",
              "      <td>-24.117592</td>\n",
              "      <td>-21.714535</td>\n",
              "      <td>-21.301800</td>\n",
              "      <td>-22.136320</td>\n",
              "      <td>-21.829573</td>\n",
              "      <td>-23.935728</td>\n",
              "      <td>-26.172852</td>\n",
              "      <td>-26.498760</td>\n",
              "      <td>-24.370060</td>\n",
              "      <td>-22.751125</td>\n",
              "      <td>-22.239195</td>\n",
              "      <td>-18.958481</td>\n",
              "      <td>-15.843094</td>\n",
              "      <td>-14.105758</td>\n",
              "      <td>-12.105047</td>\n",
              "      <td>-11.424290</td>\n",
              "      <td>-10.077869</td>\n",
              "      <td>-11.781857</td>\n",
              "      <td>-19.038103</td>\n",
              "      <td>...</td>\n",
              "      <td>-17.505516</td>\n",
              "      <td>-14.005138</td>\n",
              "      <td>-18.013573</td>\n",
              "      <td>-22.574459</td>\n",
              "      <td>-22.851269</td>\n",
              "      <td>-21.194284</td>\n",
              "      <td>-18.550970</td>\n",
              "      <td>-17.134882</td>\n",
              "      <td>-13.000432</td>\n",
              "      <td>-11.052057</td>\n",
              "      <td>-10.120874</td>\n",
              "      <td>-7.842858</td>\n",
              "      <td>-9.575192</td>\n",
              "      <td>-12.818796</td>\n",
              "      <td>-14.598411</td>\n",
              "      <td>-15.269206</td>\n",
              "      <td>-18.010088</td>\n",
              "      <td>-21.779270</td>\n",
              "      <td>-21.745750</td>\n",
              "      <td>-24.759718</td>\n",
              "      <td>-27.343306</td>\n",
              "      <td>-28.980530</td>\n",
              "      <td>-28.526236</td>\n",
              "      <td>-26.590206</td>\n",
              "      <td>-27.570068</td>\n",
              "      <td>-25.859528</td>\n",
              "      <td>-24.121603</td>\n",
              "      <td>-22.437044</td>\n",
              "      <td>-24.382036</td>\n",
              "      <td>-23.390190</td>\n",
              "      <td>-24.093792</td>\n",
              "      <td>-28.498806</td>\n",
              "      <td>-32.087219</td>\n",
              "      <td>-30.784954</td>\n",
              "      <td>-28.672932</td>\n",
              "      <td>-28.209063</td>\n",
              "      <td>225.352113</td>\n",
              "      <td>12.245638</td>\n",
              "      <td>happiness</td>\n",
              "      <td>HAP2.wav</td>\n",
              "    </tr>\n",
              "    <tr>\n",
              "      <th>7</th>\n",
              "      <td>-9.126562</td>\n",
              "      <td>-12.243798</td>\n",
              "      <td>-16.687288</td>\n",
              "      <td>-16.662022</td>\n",
              "      <td>-16.663061</td>\n",
              "      <td>-14.764975</td>\n",
              "      <td>-17.485083</td>\n",
              "      <td>-18.869265</td>\n",
              "      <td>-19.280016</td>\n",
              "      <td>-17.393015</td>\n",
              "      <td>-17.018667</td>\n",
              "      <td>-18.243391</td>\n",
              "      <td>-17.742098</td>\n",
              "      <td>-17.401281</td>\n",
              "      <td>-17.906584</td>\n",
              "      <td>-19.161266</td>\n",
              "      <td>-18.931597</td>\n",
              "      <td>-19.075737</td>\n",
              "      <td>-20.702017</td>\n",
              "      <td>-18.798433</td>\n",
              "      <td>-15.651255</td>\n",
              "      <td>-16.704727</td>\n",
              "      <td>-16.831928</td>\n",
              "      <td>-14.459290</td>\n",
              "      <td>-13.933635</td>\n",
              "      <td>-16.186998</td>\n",
              "      <td>-17.471218</td>\n",
              "      <td>-18.815630</td>\n",
              "      <td>-16.635227</td>\n",
              "      <td>-16.630943</td>\n",
              "      <td>-16.674513</td>\n",
              "      <td>-17.699762</td>\n",
              "      <td>-20.657042</td>\n",
              "      <td>-20.277454</td>\n",
              "      <td>-19.855892</td>\n",
              "      <td>-18.482067</td>\n",
              "      <td>-17.760485</td>\n",
              "      <td>-16.127266</td>\n",
              "      <td>-12.935988</td>\n",
              "      <td>-11.851109</td>\n",
              "      <td>...</td>\n",
              "      <td>-16.302120</td>\n",
              "      <td>-11.866120</td>\n",
              "      <td>-8.587626</td>\n",
              "      <td>-9.848934</td>\n",
              "      <td>-11.584890</td>\n",
              "      <td>-12.542108</td>\n",
              "      <td>-14.456614</td>\n",
              "      <td>-17.653061</td>\n",
              "      <td>-19.397087</td>\n",
              "      <td>-19.705679</td>\n",
              "      <td>-18.364758</td>\n",
              "      <td>-17.752373</td>\n",
              "      <td>-19.724152</td>\n",
              "      <td>-21.186382</td>\n",
              "      <td>-20.631050</td>\n",
              "      <td>-22.193277</td>\n",
              "      <td>-27.560848</td>\n",
              "      <td>-28.346724</td>\n",
              "      <td>-26.360752</td>\n",
              "      <td>-25.693844</td>\n",
              "      <td>-26.747166</td>\n",
              "      <td>-26.765352</td>\n",
              "      <td>-28.256216</td>\n",
              "      <td>-28.912657</td>\n",
              "      <td>-26.225941</td>\n",
              "      <td>-22.892351</td>\n",
              "      <td>-16.642006</td>\n",
              "      <td>-11.638197</td>\n",
              "      <td>-12.306240</td>\n",
              "      <td>-9.109171</td>\n",
              "      <td>-7.311365</td>\n",
              "      <td>-6.808413</td>\n",
              "      <td>-5.514171</td>\n",
              "      <td>-3.919534</td>\n",
              "      <td>-1.559693</td>\n",
              "      <td>3.889525</td>\n",
              "      <td>347.826087</td>\n",
              "      <td>12.495367</td>\n",
              "      <td>anger</td>\n",
              "      <td>ANG2.wav</td>\n",
              "    </tr>\n",
              "    <tr>\n",
              "      <th>8</th>\n",
              "      <td>6.687743</td>\n",
              "      <td>5.027881</td>\n",
              "      <td>4.351271</td>\n",
              "      <td>1.669961</td>\n",
              "      <td>-0.878583</td>\n",
              "      <td>-2.038343</td>\n",
              "      <td>-2.183696</td>\n",
              "      <td>-0.872774</td>\n",
              "      <td>-0.436755</td>\n",
              "      <td>0.715260</td>\n",
              "      <td>0.804005</td>\n",
              "      <td>-0.382169</td>\n",
              "      <td>-2.194059</td>\n",
              "      <td>-2.826708</td>\n",
              "      <td>-4.773694</td>\n",
              "      <td>-8.213598</td>\n",
              "      <td>-12.644135</td>\n",
              "      <td>-14.183559</td>\n",
              "      <td>-14.719670</td>\n",
              "      <td>-15.950057</td>\n",
              "      <td>-16.870565</td>\n",
              "      <td>-12.286028</td>\n",
              "      <td>-9.491621</td>\n",
              "      <td>-12.735247</td>\n",
              "      <td>-16.518366</td>\n",
              "      <td>-16.541578</td>\n",
              "      <td>-15.207423</td>\n",
              "      <td>-15.318930</td>\n",
              "      <td>-15.926661</td>\n",
              "      <td>-14.951704</td>\n",
              "      <td>-13.378011</td>\n",
              "      <td>-15.650679</td>\n",
              "      <td>-15.285638</td>\n",
              "      <td>-13.670614</td>\n",
              "      <td>-13.786332</td>\n",
              "      <td>-14.245397</td>\n",
              "      <td>-13.835534</td>\n",
              "      <td>-13.011198</td>\n",
              "      <td>-13.369808</td>\n",
              "      <td>-14.182305</td>\n",
              "      <td>...</td>\n",
              "      <td>-18.271612</td>\n",
              "      <td>-17.605652</td>\n",
              "      <td>-18.272280</td>\n",
              "      <td>-17.827261</td>\n",
              "      <td>-18.417805</td>\n",
              "      <td>-19.150139</td>\n",
              "      <td>-20.085766</td>\n",
              "      <td>-20.160328</td>\n",
              "      <td>-17.937605</td>\n",
              "      <td>-14.860251</td>\n",
              "      <td>-7.448741</td>\n",
              "      <td>-2.702498</td>\n",
              "      <td>2.371766</td>\n",
              "      <td>2.806662</td>\n",
              "      <td>0.260164</td>\n",
              "      <td>4.662759</td>\n",
              "      <td>6.444158</td>\n",
              "      <td>3.277367</td>\n",
              "      <td>-1.651509</td>\n",
              "      <td>0.659634</td>\n",
              "      <td>3.179276</td>\n",
              "      <td>3.637367</td>\n",
              "      <td>4.189119</td>\n",
              "      <td>2.974720</td>\n",
              "      <td>2.764503</td>\n",
              "      <td>3.632452</td>\n",
              "      <td>4.451561</td>\n",
              "      <td>3.189564</td>\n",
              "      <td>-0.033010</td>\n",
              "      <td>-0.233495</td>\n",
              "      <td>0.719048</td>\n",
              "      <td>2.114442</td>\n",
              "      <td>1.579703</td>\n",
              "      <td>3.191502</td>\n",
              "      <td>5.456708</td>\n",
              "      <td>10.951131</td>\n",
              "      <td>148.148148</td>\n",
              "      <td>11.267107</td>\n",
              "      <td>sadness</td>\n",
              "      <td>SAD1.wav</td>\n",
              "    </tr>\n",
              "    <tr>\n",
              "      <th>9</th>\n",
              "      <td>-7.974519</td>\n",
              "      <td>-11.664643</td>\n",
              "      <td>-15.296044</td>\n",
              "      <td>-8.691011</td>\n",
              "      <td>-9.273540</td>\n",
              "      <td>-15.342401</td>\n",
              "      <td>-24.627750</td>\n",
              "      <td>-29.826307</td>\n",
              "      <td>-32.585197</td>\n",
              "      <td>-33.312775</td>\n",
              "      <td>-13.273926</td>\n",
              "      <td>-7.484048</td>\n",
              "      <td>-7.280925</td>\n",
              "      <td>-14.356669</td>\n",
              "      <td>-20.111897</td>\n",
              "      <td>-23.263607</td>\n",
              "      <td>-23.243706</td>\n",
              "      <td>-24.417044</td>\n",
              "      <td>-25.556488</td>\n",
              "      <td>-25.836277</td>\n",
              "      <td>-23.231163</td>\n",
              "      <td>-22.119638</td>\n",
              "      <td>-20.327379</td>\n",
              "      <td>-20.829893</td>\n",
              "      <td>-18.154110</td>\n",
              "      <td>-19.226336</td>\n",
              "      <td>-20.528675</td>\n",
              "      <td>-22.092577</td>\n",
              "      <td>-21.383303</td>\n",
              "      <td>-21.135429</td>\n",
              "      <td>-21.739773</td>\n",
              "      <td>-20.008545</td>\n",
              "      <td>-17.599079</td>\n",
              "      <td>-16.697657</td>\n",
              "      <td>-16.286957</td>\n",
              "      <td>-14.062704</td>\n",
              "      <td>-13.732622</td>\n",
              "      <td>-14.465810</td>\n",
              "      <td>-14.912139</td>\n",
              "      <td>-13.917281</td>\n",
              "      <td>...</td>\n",
              "      <td>-24.045988</td>\n",
              "      <td>-20.837620</td>\n",
              "      <td>-21.680605</td>\n",
              "      <td>-27.376402</td>\n",
              "      <td>-29.130978</td>\n",
              "      <td>-28.091814</td>\n",
              "      <td>-26.443604</td>\n",
              "      <td>-26.673021</td>\n",
              "      <td>-23.321632</td>\n",
              "      <td>-25.234886</td>\n",
              "      <td>-26.452515</td>\n",
              "      <td>-22.010611</td>\n",
              "      <td>-21.547132</td>\n",
              "      <td>-26.453421</td>\n",
              "      <td>-22.446606</td>\n",
              "      <td>-19.103184</td>\n",
              "      <td>-20.300663</td>\n",
              "      <td>-25.671356</td>\n",
              "      <td>-27.092943</td>\n",
              "      <td>-21.204390</td>\n",
              "      <td>-18.255671</td>\n",
              "      <td>-16.491638</td>\n",
              "      <td>-15.609838</td>\n",
              "      <td>-15.650619</td>\n",
              "      <td>-16.397472</td>\n",
              "      <td>-15.575059</td>\n",
              "      <td>-15.507167</td>\n",
              "      <td>-15.216360</td>\n",
              "      <td>-17.303774</td>\n",
              "      <td>-20.835018</td>\n",
              "      <td>-22.151529</td>\n",
              "      <td>-21.874300</td>\n",
              "      <td>-23.077097</td>\n",
              "      <td>-21.853703</td>\n",
              "      <td>-14.488419</td>\n",
              "      <td>-8.797009</td>\n",
              "      <td>307.692308</td>\n",
              "      <td>12.396841</td>\n",
              "      <td>fear</td>\n",
              "      <td>FEA2.wav</td>\n",
              "    </tr>\n",
              "    <tr>\n",
              "      <th>10</th>\n",
              "      <td>-15.761560</td>\n",
              "      <td>-16.816744</td>\n",
              "      <td>-14.256190</td>\n",
              "      <td>-12.375261</td>\n",
              "      <td>-14.997000</td>\n",
              "      <td>-16.828718</td>\n",
              "      <td>-16.835318</td>\n",
              "      <td>-16.242510</td>\n",
              "      <td>-10.225718</td>\n",
              "      <td>-10.285734</td>\n",
              "      <td>-15.638825</td>\n",
              "      <td>-23.393709</td>\n",
              "      <td>-26.625540</td>\n",
              "      <td>-26.540005</td>\n",
              "      <td>-29.110666</td>\n",
              "      <td>-20.385899</td>\n",
              "      <td>-16.280148</td>\n",
              "      <td>-17.390024</td>\n",
              "      <td>-19.090397</td>\n",
              "      <td>-18.295134</td>\n",
              "      <td>-18.285641</td>\n",
              "      <td>-19.144167</td>\n",
              "      <td>-22.074694</td>\n",
              "      <td>-23.273577</td>\n",
              "      <td>-16.813894</td>\n",
              "      <td>-12.862198</td>\n",
              "      <td>-13.851711</td>\n",
              "      <td>-17.551964</td>\n",
              "      <td>-20.284737</td>\n",
              "      <td>-16.977221</td>\n",
              "      <td>-14.964181</td>\n",
              "      <td>-16.367657</td>\n",
              "      <td>-21.150921</td>\n",
              "      <td>-18.119341</td>\n",
              "      <td>-14.355371</td>\n",
              "      <td>-15.420970</td>\n",
              "      <td>-15.741491</td>\n",
              "      <td>-16.258314</td>\n",
              "      <td>-16.988319</td>\n",
              "      <td>-14.205652</td>\n",
              "      <td>...</td>\n",
              "      <td>-14.292318</td>\n",
              "      <td>-16.216711</td>\n",
              "      <td>-19.073895</td>\n",
              "      <td>-18.648331</td>\n",
              "      <td>-17.956411</td>\n",
              "      <td>-17.509922</td>\n",
              "      <td>-17.407696</td>\n",
              "      <td>-18.200985</td>\n",
              "      <td>-20.927412</td>\n",
              "      <td>-21.679871</td>\n",
              "      <td>-22.743652</td>\n",
              "      <td>-22.804070</td>\n",
              "      <td>-19.657524</td>\n",
              "      <td>-6.465259</td>\n",
              "      <td>-3.332283</td>\n",
              "      <td>-7.979045</td>\n",
              "      <td>-22.184572</td>\n",
              "      <td>-29.025389</td>\n",
              "      <td>-21.027994</td>\n",
              "      <td>-8.462461</td>\n",
              "      <td>-6.619501</td>\n",
              "      <td>-12.252687</td>\n",
              "      <td>-20.349936</td>\n",
              "      <td>-23.195768</td>\n",
              "      <td>-26.196577</td>\n",
              "      <td>-27.638590</td>\n",
              "      <td>-27.358864</td>\n",
              "      <td>-27.628233</td>\n",
              "      <td>-28.397917</td>\n",
              "      <td>-31.072258</td>\n",
              "      <td>-28.702412</td>\n",
              "      <td>-26.745342</td>\n",
              "      <td>-26.676699</td>\n",
              "      <td>-26.421879</td>\n",
              "      <td>-27.068054</td>\n",
              "      <td>-27.836819</td>\n",
              "      <td>246.153846</td>\n",
              "      <td>12.318319</td>\n",
              "      <td>fear</td>\n",
              "      <td>FEA1.wav</td>\n",
              "    </tr>\n",
              "    <tr>\n",
              "      <th>11</th>\n",
              "      <td>-14.492438</td>\n",
              "      <td>-14.238713</td>\n",
              "      <td>-17.598497</td>\n",
              "      <td>-19.422905</td>\n",
              "      <td>-18.667381</td>\n",
              "      <td>-18.363176</td>\n",
              "      <td>-17.487152</td>\n",
              "      <td>-16.529663</td>\n",
              "      <td>-15.766531</td>\n",
              "      <td>-15.709519</td>\n",
              "      <td>-17.455818</td>\n",
              "      <td>-17.534224</td>\n",
              "      <td>-17.756126</td>\n",
              "      <td>-16.830530</td>\n",
              "      <td>-14.151541</td>\n",
              "      <td>-13.247248</td>\n",
              "      <td>-12.281386</td>\n",
              "      <td>-12.517297</td>\n",
              "      <td>-14.893833</td>\n",
              "      <td>-20.308901</td>\n",
              "      <td>-22.352558</td>\n",
              "      <td>-26.755074</td>\n",
              "      <td>-29.931074</td>\n",
              "      <td>-32.405193</td>\n",
              "      <td>-32.672207</td>\n",
              "      <td>-31.613609</td>\n",
              "      <td>-30.505829</td>\n",
              "      <td>-30.828316</td>\n",
              "      <td>-31.052227</td>\n",
              "      <td>-32.473919</td>\n",
              "      <td>-30.200336</td>\n",
              "      <td>-30.438347</td>\n",
              "      <td>-29.474669</td>\n",
              "      <td>-26.718536</td>\n",
              "      <td>-27.735661</td>\n",
              "      <td>-29.930717</td>\n",
              "      <td>-32.402634</td>\n",
              "      <td>-32.672058</td>\n",
              "      <td>-31.613567</td>\n",
              "      <td>-30.506161</td>\n",
              "      <td>...</td>\n",
              "      <td>0.000000</td>\n",
              "      <td>0.000000</td>\n",
              "      <td>0.000000</td>\n",
              "      <td>0.000000</td>\n",
              "      <td>0.000000</td>\n",
              "      <td>0.000000</td>\n",
              "      <td>0.000000</td>\n",
              "      <td>0.000000</td>\n",
              "      <td>0.000000</td>\n",
              "      <td>0.000000</td>\n",
              "      <td>0.000000</td>\n",
              "      <td>0.000000</td>\n",
              "      <td>0.000000</td>\n",
              "      <td>0.000000</td>\n",
              "      <td>0.000000</td>\n",
              "      <td>0.000000</td>\n",
              "      <td>0.000000</td>\n",
              "      <td>0.000000</td>\n",
              "      <td>0.000000</td>\n",
              "      <td>0.000000</td>\n",
              "      <td>0.000000</td>\n",
              "      <td>0.000000</td>\n",
              "      <td>0.000000</td>\n",
              "      <td>0.000000</td>\n",
              "      <td>0.000000</td>\n",
              "      <td>0.000000</td>\n",
              "      <td>0.000000</td>\n",
              "      <td>0.000000</td>\n",
              "      <td>0.000000</td>\n",
              "      <td>0.000000</td>\n",
              "      <td>0.000000</td>\n",
              "      <td>0.000000</td>\n",
              "      <td>0.000000</td>\n",
              "      <td>0.000000</td>\n",
              "      <td>0.000000</td>\n",
              "      <td>0.000000</td>\n",
              "      <td>282.692308</td>\n",
              "      <td>11.722343</td>\n",
              "      <td>sarcasm</td>\n",
              "      <td>SAR2.wav</td>\n",
              "    </tr>\n",
              "  </tbody>\n",
              "</table>\n",
              "<p>12 rows × 220 columns</p>\n",
              "</div>"
            ],
            "text/plain": [
              "            0          1          2  ...        0.2        0.3       0.4\n",
              "0  -11.014460 -13.728128 -17.660004  ...   9.877799    sarcasm  SAR1.wav\n",
              "1  -15.793550 -14.479053 -15.768708  ...  12.193555    sadness  SAD2.wav\n",
              "2  -10.728317 -12.746290 -17.757929  ...  11.770717      anger  ANG1.wav\n",
              "3  -10.505746 -10.557508 -11.143297  ...  13.752558    neutral  NEU1.wav\n",
              "4   -2.969997  -4.719795  -1.848656  ...  13.402286    neutral  NEU2.wav\n",
              "5  -11.147923 -11.445167 -15.937591  ...  12.707078  happiness  HAP1.wav\n",
              "6  -11.804499 -13.321313 -16.988020  ...  12.245638  happiness  HAP2.wav\n",
              "7   -9.126562 -12.243798 -16.687288  ...  12.495367      anger  ANG2.wav\n",
              "8    6.687743   5.027881   4.351271  ...  11.267107    sadness  SAD1.wav\n",
              "9   -7.974519 -11.664643 -15.296044  ...  12.396841       fear  FEA2.wav\n",
              "10 -15.761560 -16.816744 -14.256190  ...  12.318319       fear  FEA1.wav\n",
              "11 -14.492438 -14.238713 -17.598497  ...  11.722343    sarcasm  SAR2.wav\n",
              "\n",
              "[12 rows x 220 columns]"
            ]
          },
          "metadata": {
            "tags": []
          },
          "execution_count": 31
        }
      ]
    },
    {
      "cell_type": "code",
      "metadata": {
        "id": "zq5Im_54_oMm"
      },
      "source": [
        "df.rename(columns={\"0.1\":\"pitch\",\"0.2\":\"lfbe\",\"0.3\":\"actual_emotion\",\"0.4\":\"file_name\"},inplace=True)"
      ],
      "execution_count": null,
      "outputs": []
    },
    {
      "cell_type": "code",
      "metadata": {
        "colab": {
          "base_uri": "https://localhost:8080/",
          "height": 451
        },
        "id": "LKkU6gntEO8r",
        "outputId": "e307083d-2608-416d-ecce-a87e9700644a"
      },
      "source": [
        "df"
      ],
      "execution_count": null,
      "outputs": [
        {
          "output_type": "execute_result",
          "data": {
            "text/html": [
              "<div>\n",
              "<style scoped>\n",
              "    .dataframe tbody tr th:only-of-type {\n",
              "        vertical-align: middle;\n",
              "    }\n",
              "\n",
              "    .dataframe tbody tr th {\n",
              "        vertical-align: top;\n",
              "    }\n",
              "\n",
              "    .dataframe thead th {\n",
              "        text-align: right;\n",
              "    }\n",
              "</style>\n",
              "<table border=\"1\" class=\"dataframe\">\n",
              "  <thead>\n",
              "    <tr style=\"text-align: right;\">\n",
              "      <th></th>\n",
              "      <th>0</th>\n",
              "      <th>1</th>\n",
              "      <th>2</th>\n",
              "      <th>3</th>\n",
              "      <th>4</th>\n",
              "      <th>5</th>\n",
              "      <th>6</th>\n",
              "      <th>7</th>\n",
              "      <th>8</th>\n",
              "      <th>9</th>\n",
              "      <th>10</th>\n",
              "      <th>11</th>\n",
              "      <th>12</th>\n",
              "      <th>13</th>\n",
              "      <th>14</th>\n",
              "      <th>15</th>\n",
              "      <th>16</th>\n",
              "      <th>17</th>\n",
              "      <th>18</th>\n",
              "      <th>19</th>\n",
              "      <th>20</th>\n",
              "      <th>21</th>\n",
              "      <th>22</th>\n",
              "      <th>23</th>\n",
              "      <th>24</th>\n",
              "      <th>25</th>\n",
              "      <th>26</th>\n",
              "      <th>27</th>\n",
              "      <th>28</th>\n",
              "      <th>29</th>\n",
              "      <th>30</th>\n",
              "      <th>31</th>\n",
              "      <th>32</th>\n",
              "      <th>33</th>\n",
              "      <th>34</th>\n",
              "      <th>35</th>\n",
              "      <th>36</th>\n",
              "      <th>37</th>\n",
              "      <th>38</th>\n",
              "      <th>39</th>\n",
              "      <th>...</th>\n",
              "      <th>180</th>\n",
              "      <th>181</th>\n",
              "      <th>182</th>\n",
              "      <th>183</th>\n",
              "      <th>184</th>\n",
              "      <th>185</th>\n",
              "      <th>186</th>\n",
              "      <th>187</th>\n",
              "      <th>188</th>\n",
              "      <th>189</th>\n",
              "      <th>190</th>\n",
              "      <th>191</th>\n",
              "      <th>192</th>\n",
              "      <th>193</th>\n",
              "      <th>194</th>\n",
              "      <th>195</th>\n",
              "      <th>196</th>\n",
              "      <th>197</th>\n",
              "      <th>198</th>\n",
              "      <th>199</th>\n",
              "      <th>200</th>\n",
              "      <th>201</th>\n",
              "      <th>202</th>\n",
              "      <th>203</th>\n",
              "      <th>204</th>\n",
              "      <th>205</th>\n",
              "      <th>206</th>\n",
              "      <th>207</th>\n",
              "      <th>208</th>\n",
              "      <th>209</th>\n",
              "      <th>210</th>\n",
              "      <th>211</th>\n",
              "      <th>212</th>\n",
              "      <th>213</th>\n",
              "      <th>214</th>\n",
              "      <th>215</th>\n",
              "      <th>pitch</th>\n",
              "      <th>lfbe</th>\n",
              "      <th>actual_emotion</th>\n",
              "      <th>file_name</th>\n",
              "    </tr>\n",
              "  </thead>\n",
              "  <tbody>\n",
              "    <tr>\n",
              "      <th>0</th>\n",
              "      <td>-11.014460</td>\n",
              "      <td>-13.728128</td>\n",
              "      <td>-17.660004</td>\n",
              "      <td>-16.514824</td>\n",
              "      <td>-16.004210</td>\n",
              "      <td>-17.886162</td>\n",
              "      <td>-19.818199</td>\n",
              "      <td>-20.007641</td>\n",
              "      <td>-16.751900</td>\n",
              "      <td>-17.895878</td>\n",
              "      <td>-16.702629</td>\n",
              "      <td>-16.349924</td>\n",
              "      <td>-17.678389</td>\n",
              "      <td>-20.520172</td>\n",
              "      <td>-18.939838</td>\n",
              "      <td>-16.614258</td>\n",
              "      <td>-19.457043</td>\n",
              "      <td>-20.118717</td>\n",
              "      <td>-20.759911</td>\n",
              "      <td>-19.697828</td>\n",
              "      <td>-18.630159</td>\n",
              "      <td>-18.536272</td>\n",
              "      <td>-17.785515</td>\n",
              "      <td>-18.164696</td>\n",
              "      <td>-21.332762</td>\n",
              "      <td>-23.459459</td>\n",
              "      <td>-18.588875</td>\n",
              "      <td>-17.879553</td>\n",
              "      <td>-19.198586</td>\n",
              "      <td>-21.951794</td>\n",
              "      <td>-24.679979</td>\n",
              "      <td>-25.581978</td>\n",
              "      <td>-21.708290</td>\n",
              "      <td>-20.540091</td>\n",
              "      <td>-19.950487</td>\n",
              "      <td>-20.062971</td>\n",
              "      <td>-20.415554</td>\n",
              "      <td>-19.312428</td>\n",
              "      <td>-18.731352</td>\n",
              "      <td>-19.465801</td>\n",
              "      <td>...</td>\n",
              "      <td>-11.005655</td>\n",
              "      <td>-10.116663</td>\n",
              "      <td>-10.112986</td>\n",
              "      <td>-9.854547</td>\n",
              "      <td>-11.418269</td>\n",
              "      <td>-13.682600</td>\n",
              "      <td>-15.743953</td>\n",
              "      <td>-14.089492</td>\n",
              "      <td>-13.443708</td>\n",
              "      <td>-13.216263</td>\n",
              "      <td>-18.900776</td>\n",
              "      <td>-21.546833</td>\n",
              "      <td>-18.394819</td>\n",
              "      <td>-16.610680</td>\n",
              "      <td>-13.919073</td>\n",
              "      <td>-13.766137</td>\n",
              "      <td>-13.991070</td>\n",
              "      <td>-14.109838</td>\n",
              "      <td>-13.678583</td>\n",
              "      <td>-14.241969</td>\n",
              "      <td>-16.335634</td>\n",
              "      <td>-17.409901</td>\n",
              "      <td>-16.809599</td>\n",
              "      <td>-14.697377</td>\n",
              "      <td>-15.431675</td>\n",
              "      <td>-17.629751</td>\n",
              "      <td>-17.783716</td>\n",
              "      <td>-18.030758</td>\n",
              "      <td>-17.274088</td>\n",
              "      <td>-16.474924</td>\n",
              "      <td>-18.255814</td>\n",
              "      <td>-19.948561</td>\n",
              "      <td>-21.287376</td>\n",
              "      <td>-23.608059</td>\n",
              "      <td>-19.482897</td>\n",
              "      <td>-16.538425</td>\n",
              "      <td>242.307692</td>\n",
              "      <td>9.877799</td>\n",
              "      <td>sarcasm</td>\n",
              "      <td>SAR1.wav</td>\n",
              "    </tr>\n",
              "    <tr>\n",
              "      <th>1</th>\n",
              "      <td>-15.793550</td>\n",
              "      <td>-14.479053</td>\n",
              "      <td>-15.768708</td>\n",
              "      <td>-18.641258</td>\n",
              "      <td>-17.874107</td>\n",
              "      <td>-16.920488</td>\n",
              "      <td>-17.442272</td>\n",
              "      <td>-16.632637</td>\n",
              "      <td>-17.819231</td>\n",
              "      <td>-18.182875</td>\n",
              "      <td>-16.456114</td>\n",
              "      <td>-16.110050</td>\n",
              "      <td>-16.122221</td>\n",
              "      <td>-16.171581</td>\n",
              "      <td>-16.502193</td>\n",
              "      <td>-16.220715</td>\n",
              "      <td>-14.943018</td>\n",
              "      <td>-16.246769</td>\n",
              "      <td>-15.474578</td>\n",
              "      <td>-13.761420</td>\n",
              "      <td>-12.650707</td>\n",
              "      <td>-13.236430</td>\n",
              "      <td>-14.875747</td>\n",
              "      <td>-13.055038</td>\n",
              "      <td>-13.354296</td>\n",
              "      <td>-15.714976</td>\n",
              "      <td>-17.800142</td>\n",
              "      <td>-15.043943</td>\n",
              "      <td>-14.686569</td>\n",
              "      <td>-15.914027</td>\n",
              "      <td>-13.802914</td>\n",
              "      <td>-13.406567</td>\n",
              "      <td>-13.048910</td>\n",
              "      <td>-13.548128</td>\n",
              "      <td>-11.752665</td>\n",
              "      <td>-12.045635</td>\n",
              "      <td>-13.715881</td>\n",
              "      <td>-12.768270</td>\n",
              "      <td>-10.072077</td>\n",
              "      <td>-11.199890</td>\n",
              "      <td>...</td>\n",
              "      <td>-16.714638</td>\n",
              "      <td>-16.953753</td>\n",
              "      <td>-16.913979</td>\n",
              "      <td>-15.851765</td>\n",
              "      <td>-15.387633</td>\n",
              "      <td>-15.072419</td>\n",
              "      <td>-16.609062</td>\n",
              "      <td>-16.732698</td>\n",
              "      <td>-16.318392</td>\n",
              "      <td>-15.330153</td>\n",
              "      <td>-15.833688</td>\n",
              "      <td>-17.045515</td>\n",
              "      <td>-16.092299</td>\n",
              "      <td>-16.221981</td>\n",
              "      <td>-14.936127</td>\n",
              "      <td>-15.042090</td>\n",
              "      <td>-16.620907</td>\n",
              "      <td>-14.862963</td>\n",
              "      <td>-14.442289</td>\n",
              "      <td>-16.902786</td>\n",
              "      <td>-16.590000</td>\n",
              "      <td>-16.633955</td>\n",
              "      <td>-16.468031</td>\n",
              "      <td>-16.895836</td>\n",
              "      <td>-17.900784</td>\n",
              "      <td>-16.118694</td>\n",
              "      <td>-14.238750</td>\n",
              "      <td>-14.805220</td>\n",
              "      <td>-15.818145</td>\n",
              "      <td>-16.492088</td>\n",
              "      <td>-15.298700</td>\n",
              "      <td>-14.927423</td>\n",
              "      <td>-15.885423</td>\n",
              "      <td>-17.238487</td>\n",
              "      <td>-16.358568</td>\n",
              "      <td>-16.660313</td>\n",
              "      <td>177.777778</td>\n",
              "      <td>12.193555</td>\n",
              "      <td>sadness</td>\n",
              "      <td>SAD2.wav</td>\n",
              "    </tr>\n",
              "    <tr>\n",
              "      <th>2</th>\n",
              "      <td>-10.728317</td>\n",
              "      <td>-12.746290</td>\n",
              "      <td>-17.757929</td>\n",
              "      <td>-14.574193</td>\n",
              "      <td>-14.285773</td>\n",
              "      <td>-14.766641</td>\n",
              "      <td>-14.547663</td>\n",
              "      <td>-13.494988</td>\n",
              "      <td>-13.450343</td>\n",
              "      <td>-14.696441</td>\n",
              "      <td>-14.278203</td>\n",
              "      <td>-13.715997</td>\n",
              "      <td>-13.501308</td>\n",
              "      <td>-13.791350</td>\n",
              "      <td>-14.719102</td>\n",
              "      <td>-18.193554</td>\n",
              "      <td>-24.476118</td>\n",
              "      <td>-27.786028</td>\n",
              "      <td>-27.398396</td>\n",
              "      <td>-26.979195</td>\n",
              "      <td>-25.128418</td>\n",
              "      <td>-25.387203</td>\n",
              "      <td>-28.245819</td>\n",
              "      <td>-19.483936</td>\n",
              "      <td>-16.134575</td>\n",
              "      <td>-14.592123</td>\n",
              "      <td>-14.261734</td>\n",
              "      <td>-14.173815</td>\n",
              "      <td>-13.978045</td>\n",
              "      <td>-14.279558</td>\n",
              "      <td>-14.407172</td>\n",
              "      <td>-14.258147</td>\n",
              "      <td>-14.393321</td>\n",
              "      <td>-14.904374</td>\n",
              "      <td>-15.166188</td>\n",
              "      <td>-15.193979</td>\n",
              "      <td>-15.787831</td>\n",
              "      <td>-17.556398</td>\n",
              "      <td>-19.125448</td>\n",
              "      <td>-19.988285</td>\n",
              "      <td>...</td>\n",
              "      <td>-20.871189</td>\n",
              "      <td>-22.233921</td>\n",
              "      <td>-19.175198</td>\n",
              "      <td>-20.264290</td>\n",
              "      <td>-21.682442</td>\n",
              "      <td>-21.271904</td>\n",
              "      <td>-20.894600</td>\n",
              "      <td>-19.788454</td>\n",
              "      <td>-17.888525</td>\n",
              "      <td>-15.056710</td>\n",
              "      <td>-15.009032</td>\n",
              "      <td>-15.128623</td>\n",
              "      <td>-20.095512</td>\n",
              "      <td>-28.907227</td>\n",
              "      <td>-31.757427</td>\n",
              "      <td>-28.966749</td>\n",
              "      <td>-29.763458</td>\n",
              "      <td>-17.323641</td>\n",
              "      <td>-12.785542</td>\n",
              "      <td>-13.950721</td>\n",
              "      <td>-15.323236</td>\n",
              "      <td>-15.787330</td>\n",
              "      <td>-15.946662</td>\n",
              "      <td>-14.996500</td>\n",
              "      <td>-14.223026</td>\n",
              "      <td>-13.870319</td>\n",
              "      <td>-14.023500</td>\n",
              "      <td>-13.715936</td>\n",
              "      <td>-13.217222</td>\n",
              "      <td>-13.201043</td>\n",
              "      <td>-13.265620</td>\n",
              "      <td>-13.760360</td>\n",
              "      <td>-14.062688</td>\n",
              "      <td>-14.585799</td>\n",
              "      <td>-16.353695</td>\n",
              "      <td>-18.433563</td>\n",
              "      <td>258.064516</td>\n",
              "      <td>11.770717</td>\n",
              "      <td>anger</td>\n",
              "      <td>ANG1.wav</td>\n",
              "    </tr>\n",
              "    <tr>\n",
              "      <th>3</th>\n",
              "      <td>-10.505746</td>\n",
              "      <td>-10.557508</td>\n",
              "      <td>-11.143297</td>\n",
              "      <td>-10.161523</td>\n",
              "      <td>-9.140228</td>\n",
              "      <td>-9.695555</td>\n",
              "      <td>-8.707957</td>\n",
              "      <td>-6.285563</td>\n",
              "      <td>-4.032925</td>\n",
              "      <td>-4.855814</td>\n",
              "      <td>-7.812320</td>\n",
              "      <td>-11.660192</td>\n",
              "      <td>-17.766321</td>\n",
              "      <td>-14.438134</td>\n",
              "      <td>-7.230930</td>\n",
              "      <td>-5.551696</td>\n",
              "      <td>-6.237275</td>\n",
              "      <td>-8.597355</td>\n",
              "      <td>-8.491020</td>\n",
              "      <td>-6.500621</td>\n",
              "      <td>-8.051365</td>\n",
              "      <td>-10.663864</td>\n",
              "      <td>-13.655799</td>\n",
              "      <td>-20.335276</td>\n",
              "      <td>-23.140331</td>\n",
              "      <td>-25.019033</td>\n",
              "      <td>-23.885012</td>\n",
              "      <td>-24.067024</td>\n",
              "      <td>-25.205647</td>\n",
              "      <td>-25.022270</td>\n",
              "      <td>-23.076582</td>\n",
              "      <td>-22.901072</td>\n",
              "      <td>-22.814697</td>\n",
              "      <td>-10.505382</td>\n",
              "      <td>-7.694690</td>\n",
              "      <td>-8.982870</td>\n",
              "      <td>-7.729104</td>\n",
              "      <td>-8.023431</td>\n",
              "      <td>-7.838265</td>\n",
              "      <td>-8.119558</td>\n",
              "      <td>...</td>\n",
              "      <td>-7.252980</td>\n",
              "      <td>-6.334002</td>\n",
              "      <td>-5.492877</td>\n",
              "      <td>-5.626005</td>\n",
              "      <td>-7.722611</td>\n",
              "      <td>-14.176815</td>\n",
              "      <td>-14.988291</td>\n",
              "      <td>-12.258704</td>\n",
              "      <td>-15.746737</td>\n",
              "      <td>-22.393562</td>\n",
              "      <td>-26.969173</td>\n",
              "      <td>-28.822252</td>\n",
              "      <td>-27.265560</td>\n",
              "      <td>-29.330982</td>\n",
              "      <td>-19.669741</td>\n",
              "      <td>-10.558420</td>\n",
              "      <td>-6.360513</td>\n",
              "      <td>-5.150708</td>\n",
              "      <td>-5.510244</td>\n",
              "      <td>-6.543590</td>\n",
              "      <td>-6.148323</td>\n",
              "      <td>-6.452629</td>\n",
              "      <td>-7.156578</td>\n",
              "      <td>-7.461504</td>\n",
              "      <td>-6.974090</td>\n",
              "      <td>-8.524652</td>\n",
              "      <td>-9.656802</td>\n",
              "      <td>-7.822206</td>\n",
              "      <td>-6.955296</td>\n",
              "      <td>-6.738076</td>\n",
              "      <td>-7.429216</td>\n",
              "      <td>-8.947301</td>\n",
              "      <td>-9.794353</td>\n",
              "      <td>-9.126889</td>\n",
              "      <td>-6.187553</td>\n",
              "      <td>-3.303124</td>\n",
              "      <td>200.000000</td>\n",
              "      <td>13.752558</td>\n",
              "      <td>neutral</td>\n",
              "      <td>NEU1.wav</td>\n",
              "    </tr>\n",
              "    <tr>\n",
              "      <th>4</th>\n",
              "      <td>-2.969997</td>\n",
              "      <td>-4.719795</td>\n",
              "      <td>-1.848656</td>\n",
              "      <td>1.217577</td>\n",
              "      <td>-1.287035</td>\n",
              "      <td>-5.322466</td>\n",
              "      <td>-3.652644</td>\n",
              "      <td>-2.032567</td>\n",
              "      <td>-5.955170</td>\n",
              "      <td>-9.156565</td>\n",
              "      <td>-8.611881</td>\n",
              "      <td>-8.072613</td>\n",
              "      <td>-8.243143</td>\n",
              "      <td>-8.198928</td>\n",
              "      <td>-6.925825</td>\n",
              "      <td>-5.364983</td>\n",
              "      <td>-4.915359</td>\n",
              "      <td>-7.139854</td>\n",
              "      <td>-14.953047</td>\n",
              "      <td>-15.853499</td>\n",
              "      <td>-13.100495</td>\n",
              "      <td>-12.778804</td>\n",
              "      <td>-5.407514</td>\n",
              "      <td>-3.601679</td>\n",
              "      <td>-5.449890</td>\n",
              "      <td>-6.452208</td>\n",
              "      <td>-3.959128</td>\n",
              "      <td>-5.980114</td>\n",
              "      <td>-12.514482</td>\n",
              "      <td>-17.892153</td>\n",
              "      <td>-21.430187</td>\n",
              "      <td>-21.601391</td>\n",
              "      <td>-21.163073</td>\n",
              "      <td>-17.944731</td>\n",
              "      <td>-11.022192</td>\n",
              "      <td>-7.929677</td>\n",
              "      <td>-3.250998</td>\n",
              "      <td>-0.550610</td>\n",
              "      <td>-1.355287</td>\n",
              "      <td>-3.991280</td>\n",
              "      <td>...</td>\n",
              "      <td>-3.586292</td>\n",
              "      <td>-4.376525</td>\n",
              "      <td>-4.710562</td>\n",
              "      <td>-4.560153</td>\n",
              "      <td>-4.889730</td>\n",
              "      <td>-3.491592</td>\n",
              "      <td>-2.624641</td>\n",
              "      <td>-6.758288</td>\n",
              "      <td>-14.328059</td>\n",
              "      <td>-19.547237</td>\n",
              "      <td>-17.433743</td>\n",
              "      <td>-13.884571</td>\n",
              "      <td>-16.981331</td>\n",
              "      <td>-24.100554</td>\n",
              "      <td>-19.672573</td>\n",
              "      <td>-13.580796</td>\n",
              "      <td>-12.240810</td>\n",
              "      <td>-14.037730</td>\n",
              "      <td>-5.571839</td>\n",
              "      <td>-2.510840</td>\n",
              "      <td>-3.104449</td>\n",
              "      <td>-5.923870</td>\n",
              "      <td>-7.527391</td>\n",
              "      <td>-7.170432</td>\n",
              "      <td>-6.457666</td>\n",
              "      <td>-6.965677</td>\n",
              "      <td>-7.193982</td>\n",
              "      <td>-8.469297</td>\n",
              "      <td>-7.536212</td>\n",
              "      <td>-6.845573</td>\n",
              "      <td>-7.106854</td>\n",
              "      <td>-8.502460</td>\n",
              "      <td>-10.846317</td>\n",
              "      <td>-10.731597</td>\n",
              "      <td>-4.616987</td>\n",
              "      <td>1.853903</td>\n",
              "      <td>170.212766</td>\n",
              "      <td>13.402286</td>\n",
              "      <td>neutral</td>\n",
              "      <td>NEU2.wav</td>\n",
              "    </tr>\n",
              "    <tr>\n",
              "      <th>5</th>\n",
              "      <td>-11.147923</td>\n",
              "      <td>-11.445167</td>\n",
              "      <td>-15.937591</td>\n",
              "      <td>-13.511199</td>\n",
              "      <td>-12.528314</td>\n",
              "      <td>-13.442221</td>\n",
              "      <td>-12.975239</td>\n",
              "      <td>-12.984517</td>\n",
              "      <td>-13.481948</td>\n",
              "      <td>-11.566530</td>\n",
              "      <td>-9.047473</td>\n",
              "      <td>-10.050248</td>\n",
              "      <td>-12.793416</td>\n",
              "      <td>-14.254693</td>\n",
              "      <td>-13.519195</td>\n",
              "      <td>-14.546107</td>\n",
              "      <td>-14.801975</td>\n",
              "      <td>-13.832419</td>\n",
              "      <td>-13.537716</td>\n",
              "      <td>-18.741184</td>\n",
              "      <td>-14.749766</td>\n",
              "      <td>-13.966051</td>\n",
              "      <td>-16.507311</td>\n",
              "      <td>-18.568392</td>\n",
              "      <td>-22.198130</td>\n",
              "      <td>-22.541216</td>\n",
              "      <td>-21.340984</td>\n",
              "      <td>-27.696852</td>\n",
              "      <td>-27.182627</td>\n",
              "      <td>-24.016541</td>\n",
              "      <td>-25.640413</td>\n",
              "      <td>-24.170359</td>\n",
              "      <td>-26.680363</td>\n",
              "      <td>-29.533873</td>\n",
              "      <td>-28.712276</td>\n",
              "      <td>-24.076088</td>\n",
              "      <td>-22.833719</td>\n",
              "      <td>-16.729927</td>\n",
              "      <td>-14.188959</td>\n",
              "      <td>-16.977308</td>\n",
              "      <td>...</td>\n",
              "      <td>-25.145124</td>\n",
              "      <td>-18.636805</td>\n",
              "      <td>-14.734072</td>\n",
              "      <td>-15.405764</td>\n",
              "      <td>-18.116741</td>\n",
              "      <td>-21.299889</td>\n",
              "      <td>-19.517809</td>\n",
              "      <td>-21.332273</td>\n",
              "      <td>-26.051727</td>\n",
              "      <td>-28.983212</td>\n",
              "      <td>-29.000181</td>\n",
              "      <td>-31.695763</td>\n",
              "      <td>-27.370083</td>\n",
              "      <td>-21.551350</td>\n",
              "      <td>-18.465025</td>\n",
              "      <td>-18.251940</td>\n",
              "      <td>-19.079117</td>\n",
              "      <td>-18.895699</td>\n",
              "      <td>-19.538206</td>\n",
              "      <td>-19.385962</td>\n",
              "      <td>-17.947847</td>\n",
              "      <td>-17.792591</td>\n",
              "      <td>-17.917952</td>\n",
              "      <td>-17.117653</td>\n",
              "      <td>-16.922935</td>\n",
              "      <td>-16.984854</td>\n",
              "      <td>-16.672262</td>\n",
              "      <td>-15.053018</td>\n",
              "      <td>-15.692529</td>\n",
              "      <td>-17.659344</td>\n",
              "      <td>-19.087311</td>\n",
              "      <td>-19.083172</td>\n",
              "      <td>-18.561689</td>\n",
              "      <td>-18.052862</td>\n",
              "      <td>-14.007442</td>\n",
              "      <td>-8.619171</td>\n",
              "      <td>326.530612</td>\n",
              "      <td>12.707078</td>\n",
              "      <td>happiness</td>\n",
              "      <td>HAP1.wav</td>\n",
              "    </tr>\n",
              "    <tr>\n",
              "      <th>6</th>\n",
              "      <td>-11.804499</td>\n",
              "      <td>-13.321313</td>\n",
              "      <td>-16.988020</td>\n",
              "      <td>-17.507057</td>\n",
              "      <td>-15.274395</td>\n",
              "      <td>-14.809097</td>\n",
              "      <td>-15.339401</td>\n",
              "      <td>-18.251244</td>\n",
              "      <td>-29.204815</td>\n",
              "      <td>-33.094692</td>\n",
              "      <td>-33.991550</td>\n",
              "      <td>-35.393936</td>\n",
              "      <td>-31.224602</td>\n",
              "      <td>-18.514540</td>\n",
              "      <td>-11.815777</td>\n",
              "      <td>-12.556815</td>\n",
              "      <td>-15.843508</td>\n",
              "      <td>-17.391548</td>\n",
              "      <td>-20.025280</td>\n",
              "      <td>-23.891603</td>\n",
              "      <td>-26.729063</td>\n",
              "      <td>-24.117592</td>\n",
              "      <td>-21.714535</td>\n",
              "      <td>-21.301800</td>\n",
              "      <td>-22.136320</td>\n",
              "      <td>-21.829573</td>\n",
              "      <td>-23.935728</td>\n",
              "      <td>-26.172852</td>\n",
              "      <td>-26.498760</td>\n",
              "      <td>-24.370060</td>\n",
              "      <td>-22.751125</td>\n",
              "      <td>-22.239195</td>\n",
              "      <td>-18.958481</td>\n",
              "      <td>-15.843094</td>\n",
              "      <td>-14.105758</td>\n",
              "      <td>-12.105047</td>\n",
              "      <td>-11.424290</td>\n",
              "      <td>-10.077869</td>\n",
              "      <td>-11.781857</td>\n",
              "      <td>-19.038103</td>\n",
              "      <td>...</td>\n",
              "      <td>-17.505516</td>\n",
              "      <td>-14.005138</td>\n",
              "      <td>-18.013573</td>\n",
              "      <td>-22.574459</td>\n",
              "      <td>-22.851269</td>\n",
              "      <td>-21.194284</td>\n",
              "      <td>-18.550970</td>\n",
              "      <td>-17.134882</td>\n",
              "      <td>-13.000432</td>\n",
              "      <td>-11.052057</td>\n",
              "      <td>-10.120874</td>\n",
              "      <td>-7.842858</td>\n",
              "      <td>-9.575192</td>\n",
              "      <td>-12.818796</td>\n",
              "      <td>-14.598411</td>\n",
              "      <td>-15.269206</td>\n",
              "      <td>-18.010088</td>\n",
              "      <td>-21.779270</td>\n",
              "      <td>-21.745750</td>\n",
              "      <td>-24.759718</td>\n",
              "      <td>-27.343306</td>\n",
              "      <td>-28.980530</td>\n",
              "      <td>-28.526236</td>\n",
              "      <td>-26.590206</td>\n",
              "      <td>-27.570068</td>\n",
              "      <td>-25.859528</td>\n",
              "      <td>-24.121603</td>\n",
              "      <td>-22.437044</td>\n",
              "      <td>-24.382036</td>\n",
              "      <td>-23.390190</td>\n",
              "      <td>-24.093792</td>\n",
              "      <td>-28.498806</td>\n",
              "      <td>-32.087219</td>\n",
              "      <td>-30.784954</td>\n",
              "      <td>-28.672932</td>\n",
              "      <td>-28.209063</td>\n",
              "      <td>225.352113</td>\n",
              "      <td>12.245638</td>\n",
              "      <td>happiness</td>\n",
              "      <td>HAP2.wav</td>\n",
              "    </tr>\n",
              "    <tr>\n",
              "      <th>7</th>\n",
              "      <td>-9.126562</td>\n",
              "      <td>-12.243798</td>\n",
              "      <td>-16.687288</td>\n",
              "      <td>-16.662022</td>\n",
              "      <td>-16.663061</td>\n",
              "      <td>-14.764975</td>\n",
              "      <td>-17.485083</td>\n",
              "      <td>-18.869265</td>\n",
              "      <td>-19.280016</td>\n",
              "      <td>-17.393015</td>\n",
              "      <td>-17.018667</td>\n",
              "      <td>-18.243391</td>\n",
              "      <td>-17.742098</td>\n",
              "      <td>-17.401281</td>\n",
              "      <td>-17.906584</td>\n",
              "      <td>-19.161266</td>\n",
              "      <td>-18.931597</td>\n",
              "      <td>-19.075737</td>\n",
              "      <td>-20.702017</td>\n",
              "      <td>-18.798433</td>\n",
              "      <td>-15.651255</td>\n",
              "      <td>-16.704727</td>\n",
              "      <td>-16.831928</td>\n",
              "      <td>-14.459290</td>\n",
              "      <td>-13.933635</td>\n",
              "      <td>-16.186998</td>\n",
              "      <td>-17.471218</td>\n",
              "      <td>-18.815630</td>\n",
              "      <td>-16.635227</td>\n",
              "      <td>-16.630943</td>\n",
              "      <td>-16.674513</td>\n",
              "      <td>-17.699762</td>\n",
              "      <td>-20.657042</td>\n",
              "      <td>-20.277454</td>\n",
              "      <td>-19.855892</td>\n",
              "      <td>-18.482067</td>\n",
              "      <td>-17.760485</td>\n",
              "      <td>-16.127266</td>\n",
              "      <td>-12.935988</td>\n",
              "      <td>-11.851109</td>\n",
              "      <td>...</td>\n",
              "      <td>-16.302120</td>\n",
              "      <td>-11.866120</td>\n",
              "      <td>-8.587626</td>\n",
              "      <td>-9.848934</td>\n",
              "      <td>-11.584890</td>\n",
              "      <td>-12.542108</td>\n",
              "      <td>-14.456614</td>\n",
              "      <td>-17.653061</td>\n",
              "      <td>-19.397087</td>\n",
              "      <td>-19.705679</td>\n",
              "      <td>-18.364758</td>\n",
              "      <td>-17.752373</td>\n",
              "      <td>-19.724152</td>\n",
              "      <td>-21.186382</td>\n",
              "      <td>-20.631050</td>\n",
              "      <td>-22.193277</td>\n",
              "      <td>-27.560848</td>\n",
              "      <td>-28.346724</td>\n",
              "      <td>-26.360752</td>\n",
              "      <td>-25.693844</td>\n",
              "      <td>-26.747166</td>\n",
              "      <td>-26.765352</td>\n",
              "      <td>-28.256216</td>\n",
              "      <td>-28.912657</td>\n",
              "      <td>-26.225941</td>\n",
              "      <td>-22.892351</td>\n",
              "      <td>-16.642006</td>\n",
              "      <td>-11.638197</td>\n",
              "      <td>-12.306240</td>\n",
              "      <td>-9.109171</td>\n",
              "      <td>-7.311365</td>\n",
              "      <td>-6.808413</td>\n",
              "      <td>-5.514171</td>\n",
              "      <td>-3.919534</td>\n",
              "      <td>-1.559693</td>\n",
              "      <td>3.889525</td>\n",
              "      <td>347.826087</td>\n",
              "      <td>12.495367</td>\n",
              "      <td>anger</td>\n",
              "      <td>ANG2.wav</td>\n",
              "    </tr>\n",
              "    <tr>\n",
              "      <th>8</th>\n",
              "      <td>6.687743</td>\n",
              "      <td>5.027881</td>\n",
              "      <td>4.351271</td>\n",
              "      <td>1.669961</td>\n",
              "      <td>-0.878583</td>\n",
              "      <td>-2.038343</td>\n",
              "      <td>-2.183696</td>\n",
              "      <td>-0.872774</td>\n",
              "      <td>-0.436755</td>\n",
              "      <td>0.715260</td>\n",
              "      <td>0.804005</td>\n",
              "      <td>-0.382169</td>\n",
              "      <td>-2.194059</td>\n",
              "      <td>-2.826708</td>\n",
              "      <td>-4.773694</td>\n",
              "      <td>-8.213598</td>\n",
              "      <td>-12.644135</td>\n",
              "      <td>-14.183559</td>\n",
              "      <td>-14.719670</td>\n",
              "      <td>-15.950057</td>\n",
              "      <td>-16.870565</td>\n",
              "      <td>-12.286028</td>\n",
              "      <td>-9.491621</td>\n",
              "      <td>-12.735247</td>\n",
              "      <td>-16.518366</td>\n",
              "      <td>-16.541578</td>\n",
              "      <td>-15.207423</td>\n",
              "      <td>-15.318930</td>\n",
              "      <td>-15.926661</td>\n",
              "      <td>-14.951704</td>\n",
              "      <td>-13.378011</td>\n",
              "      <td>-15.650679</td>\n",
              "      <td>-15.285638</td>\n",
              "      <td>-13.670614</td>\n",
              "      <td>-13.786332</td>\n",
              "      <td>-14.245397</td>\n",
              "      <td>-13.835534</td>\n",
              "      <td>-13.011198</td>\n",
              "      <td>-13.369808</td>\n",
              "      <td>-14.182305</td>\n",
              "      <td>...</td>\n",
              "      <td>-18.271612</td>\n",
              "      <td>-17.605652</td>\n",
              "      <td>-18.272280</td>\n",
              "      <td>-17.827261</td>\n",
              "      <td>-18.417805</td>\n",
              "      <td>-19.150139</td>\n",
              "      <td>-20.085766</td>\n",
              "      <td>-20.160328</td>\n",
              "      <td>-17.937605</td>\n",
              "      <td>-14.860251</td>\n",
              "      <td>-7.448741</td>\n",
              "      <td>-2.702498</td>\n",
              "      <td>2.371766</td>\n",
              "      <td>2.806662</td>\n",
              "      <td>0.260164</td>\n",
              "      <td>4.662759</td>\n",
              "      <td>6.444158</td>\n",
              "      <td>3.277367</td>\n",
              "      <td>-1.651509</td>\n",
              "      <td>0.659634</td>\n",
              "      <td>3.179276</td>\n",
              "      <td>3.637367</td>\n",
              "      <td>4.189119</td>\n",
              "      <td>2.974720</td>\n",
              "      <td>2.764503</td>\n",
              "      <td>3.632452</td>\n",
              "      <td>4.451561</td>\n",
              "      <td>3.189564</td>\n",
              "      <td>-0.033010</td>\n",
              "      <td>-0.233495</td>\n",
              "      <td>0.719048</td>\n",
              "      <td>2.114442</td>\n",
              "      <td>1.579703</td>\n",
              "      <td>3.191502</td>\n",
              "      <td>5.456708</td>\n",
              "      <td>10.951131</td>\n",
              "      <td>148.148148</td>\n",
              "      <td>11.267107</td>\n",
              "      <td>sadness</td>\n",
              "      <td>SAD1.wav</td>\n",
              "    </tr>\n",
              "    <tr>\n",
              "      <th>9</th>\n",
              "      <td>-7.974519</td>\n",
              "      <td>-11.664643</td>\n",
              "      <td>-15.296044</td>\n",
              "      <td>-8.691011</td>\n",
              "      <td>-9.273540</td>\n",
              "      <td>-15.342401</td>\n",
              "      <td>-24.627750</td>\n",
              "      <td>-29.826307</td>\n",
              "      <td>-32.585197</td>\n",
              "      <td>-33.312775</td>\n",
              "      <td>-13.273926</td>\n",
              "      <td>-7.484048</td>\n",
              "      <td>-7.280925</td>\n",
              "      <td>-14.356669</td>\n",
              "      <td>-20.111897</td>\n",
              "      <td>-23.263607</td>\n",
              "      <td>-23.243706</td>\n",
              "      <td>-24.417044</td>\n",
              "      <td>-25.556488</td>\n",
              "      <td>-25.836277</td>\n",
              "      <td>-23.231163</td>\n",
              "      <td>-22.119638</td>\n",
              "      <td>-20.327379</td>\n",
              "      <td>-20.829893</td>\n",
              "      <td>-18.154110</td>\n",
              "      <td>-19.226336</td>\n",
              "      <td>-20.528675</td>\n",
              "      <td>-22.092577</td>\n",
              "      <td>-21.383303</td>\n",
              "      <td>-21.135429</td>\n",
              "      <td>-21.739773</td>\n",
              "      <td>-20.008545</td>\n",
              "      <td>-17.599079</td>\n",
              "      <td>-16.697657</td>\n",
              "      <td>-16.286957</td>\n",
              "      <td>-14.062704</td>\n",
              "      <td>-13.732622</td>\n",
              "      <td>-14.465810</td>\n",
              "      <td>-14.912139</td>\n",
              "      <td>-13.917281</td>\n",
              "      <td>...</td>\n",
              "      <td>-24.045988</td>\n",
              "      <td>-20.837620</td>\n",
              "      <td>-21.680605</td>\n",
              "      <td>-27.376402</td>\n",
              "      <td>-29.130978</td>\n",
              "      <td>-28.091814</td>\n",
              "      <td>-26.443604</td>\n",
              "      <td>-26.673021</td>\n",
              "      <td>-23.321632</td>\n",
              "      <td>-25.234886</td>\n",
              "      <td>-26.452515</td>\n",
              "      <td>-22.010611</td>\n",
              "      <td>-21.547132</td>\n",
              "      <td>-26.453421</td>\n",
              "      <td>-22.446606</td>\n",
              "      <td>-19.103184</td>\n",
              "      <td>-20.300663</td>\n",
              "      <td>-25.671356</td>\n",
              "      <td>-27.092943</td>\n",
              "      <td>-21.204390</td>\n",
              "      <td>-18.255671</td>\n",
              "      <td>-16.491638</td>\n",
              "      <td>-15.609838</td>\n",
              "      <td>-15.650619</td>\n",
              "      <td>-16.397472</td>\n",
              "      <td>-15.575059</td>\n",
              "      <td>-15.507167</td>\n",
              "      <td>-15.216360</td>\n",
              "      <td>-17.303774</td>\n",
              "      <td>-20.835018</td>\n",
              "      <td>-22.151529</td>\n",
              "      <td>-21.874300</td>\n",
              "      <td>-23.077097</td>\n",
              "      <td>-21.853703</td>\n",
              "      <td>-14.488419</td>\n",
              "      <td>-8.797009</td>\n",
              "      <td>307.692308</td>\n",
              "      <td>12.396841</td>\n",
              "      <td>fear</td>\n",
              "      <td>FEA2.wav</td>\n",
              "    </tr>\n",
              "    <tr>\n",
              "      <th>10</th>\n",
              "      <td>-15.761560</td>\n",
              "      <td>-16.816744</td>\n",
              "      <td>-14.256190</td>\n",
              "      <td>-12.375261</td>\n",
              "      <td>-14.997000</td>\n",
              "      <td>-16.828718</td>\n",
              "      <td>-16.835318</td>\n",
              "      <td>-16.242510</td>\n",
              "      <td>-10.225718</td>\n",
              "      <td>-10.285734</td>\n",
              "      <td>-15.638825</td>\n",
              "      <td>-23.393709</td>\n",
              "      <td>-26.625540</td>\n",
              "      <td>-26.540005</td>\n",
              "      <td>-29.110666</td>\n",
              "      <td>-20.385899</td>\n",
              "      <td>-16.280148</td>\n",
              "      <td>-17.390024</td>\n",
              "      <td>-19.090397</td>\n",
              "      <td>-18.295134</td>\n",
              "      <td>-18.285641</td>\n",
              "      <td>-19.144167</td>\n",
              "      <td>-22.074694</td>\n",
              "      <td>-23.273577</td>\n",
              "      <td>-16.813894</td>\n",
              "      <td>-12.862198</td>\n",
              "      <td>-13.851711</td>\n",
              "      <td>-17.551964</td>\n",
              "      <td>-20.284737</td>\n",
              "      <td>-16.977221</td>\n",
              "      <td>-14.964181</td>\n",
              "      <td>-16.367657</td>\n",
              "      <td>-21.150921</td>\n",
              "      <td>-18.119341</td>\n",
              "      <td>-14.355371</td>\n",
              "      <td>-15.420970</td>\n",
              "      <td>-15.741491</td>\n",
              "      <td>-16.258314</td>\n",
              "      <td>-16.988319</td>\n",
              "      <td>-14.205652</td>\n",
              "      <td>...</td>\n",
              "      <td>-14.292318</td>\n",
              "      <td>-16.216711</td>\n",
              "      <td>-19.073895</td>\n",
              "      <td>-18.648331</td>\n",
              "      <td>-17.956411</td>\n",
              "      <td>-17.509922</td>\n",
              "      <td>-17.407696</td>\n",
              "      <td>-18.200985</td>\n",
              "      <td>-20.927412</td>\n",
              "      <td>-21.679871</td>\n",
              "      <td>-22.743652</td>\n",
              "      <td>-22.804070</td>\n",
              "      <td>-19.657524</td>\n",
              "      <td>-6.465259</td>\n",
              "      <td>-3.332283</td>\n",
              "      <td>-7.979045</td>\n",
              "      <td>-22.184572</td>\n",
              "      <td>-29.025389</td>\n",
              "      <td>-21.027994</td>\n",
              "      <td>-8.462461</td>\n",
              "      <td>-6.619501</td>\n",
              "      <td>-12.252687</td>\n",
              "      <td>-20.349936</td>\n",
              "      <td>-23.195768</td>\n",
              "      <td>-26.196577</td>\n",
              "      <td>-27.638590</td>\n",
              "      <td>-27.358864</td>\n",
              "      <td>-27.628233</td>\n",
              "      <td>-28.397917</td>\n",
              "      <td>-31.072258</td>\n",
              "      <td>-28.702412</td>\n",
              "      <td>-26.745342</td>\n",
              "      <td>-26.676699</td>\n",
              "      <td>-26.421879</td>\n",
              "      <td>-27.068054</td>\n",
              "      <td>-27.836819</td>\n",
              "      <td>246.153846</td>\n",
              "      <td>12.318319</td>\n",
              "      <td>fear</td>\n",
              "      <td>FEA1.wav</td>\n",
              "    </tr>\n",
              "    <tr>\n",
              "      <th>11</th>\n",
              "      <td>-14.492438</td>\n",
              "      <td>-14.238713</td>\n",
              "      <td>-17.598497</td>\n",
              "      <td>-19.422905</td>\n",
              "      <td>-18.667381</td>\n",
              "      <td>-18.363176</td>\n",
              "      <td>-17.487152</td>\n",
              "      <td>-16.529663</td>\n",
              "      <td>-15.766531</td>\n",
              "      <td>-15.709519</td>\n",
              "      <td>-17.455818</td>\n",
              "      <td>-17.534224</td>\n",
              "      <td>-17.756126</td>\n",
              "      <td>-16.830530</td>\n",
              "      <td>-14.151541</td>\n",
              "      <td>-13.247248</td>\n",
              "      <td>-12.281386</td>\n",
              "      <td>-12.517297</td>\n",
              "      <td>-14.893833</td>\n",
              "      <td>-20.308901</td>\n",
              "      <td>-22.352558</td>\n",
              "      <td>-26.755074</td>\n",
              "      <td>-29.931074</td>\n",
              "      <td>-32.405193</td>\n",
              "      <td>-32.672207</td>\n",
              "      <td>-31.613609</td>\n",
              "      <td>-30.505829</td>\n",
              "      <td>-30.828316</td>\n",
              "      <td>-31.052227</td>\n",
              "      <td>-32.473919</td>\n",
              "      <td>-30.200336</td>\n",
              "      <td>-30.438347</td>\n",
              "      <td>-29.474669</td>\n",
              "      <td>-26.718536</td>\n",
              "      <td>-27.735661</td>\n",
              "      <td>-29.930717</td>\n",
              "      <td>-32.402634</td>\n",
              "      <td>-32.672058</td>\n",
              "      <td>-31.613567</td>\n",
              "      <td>-30.506161</td>\n",
              "      <td>...</td>\n",
              "      <td>0.000000</td>\n",
              "      <td>0.000000</td>\n",
              "      <td>0.000000</td>\n",
              "      <td>0.000000</td>\n",
              "      <td>0.000000</td>\n",
              "      <td>0.000000</td>\n",
              "      <td>0.000000</td>\n",
              "      <td>0.000000</td>\n",
              "      <td>0.000000</td>\n",
              "      <td>0.000000</td>\n",
              "      <td>0.000000</td>\n",
              "      <td>0.000000</td>\n",
              "      <td>0.000000</td>\n",
              "      <td>0.000000</td>\n",
              "      <td>0.000000</td>\n",
              "      <td>0.000000</td>\n",
              "      <td>0.000000</td>\n",
              "      <td>0.000000</td>\n",
              "      <td>0.000000</td>\n",
              "      <td>0.000000</td>\n",
              "      <td>0.000000</td>\n",
              "      <td>0.000000</td>\n",
              "      <td>0.000000</td>\n",
              "      <td>0.000000</td>\n",
              "      <td>0.000000</td>\n",
              "      <td>0.000000</td>\n",
              "      <td>0.000000</td>\n",
              "      <td>0.000000</td>\n",
              "      <td>0.000000</td>\n",
              "      <td>0.000000</td>\n",
              "      <td>0.000000</td>\n",
              "      <td>0.000000</td>\n",
              "      <td>0.000000</td>\n",
              "      <td>0.000000</td>\n",
              "      <td>0.000000</td>\n",
              "      <td>0.000000</td>\n",
              "      <td>282.692308</td>\n",
              "      <td>11.722343</td>\n",
              "      <td>sarcasm</td>\n",
              "      <td>SAR2.wav</td>\n",
              "    </tr>\n",
              "  </tbody>\n",
              "</table>\n",
              "<p>12 rows × 220 columns</p>\n",
              "</div>"
            ],
            "text/plain": [
              "            0          1          2  ...       lfbe  actual_emotion  file_name\n",
              "0  -11.014460 -13.728128 -17.660004  ...   9.877799         sarcasm   SAR1.wav\n",
              "1  -15.793550 -14.479053 -15.768708  ...  12.193555         sadness   SAD2.wav\n",
              "2  -10.728317 -12.746290 -17.757929  ...  11.770717           anger   ANG1.wav\n",
              "3  -10.505746 -10.557508 -11.143297  ...  13.752558         neutral   NEU1.wav\n",
              "4   -2.969997  -4.719795  -1.848656  ...  13.402286         neutral   NEU2.wav\n",
              "5  -11.147923 -11.445167 -15.937591  ...  12.707078       happiness   HAP1.wav\n",
              "6  -11.804499 -13.321313 -16.988020  ...  12.245638       happiness   HAP2.wav\n",
              "7   -9.126562 -12.243798 -16.687288  ...  12.495367           anger   ANG2.wav\n",
              "8    6.687743   5.027881   4.351271  ...  11.267107         sadness   SAD1.wav\n",
              "9   -7.974519 -11.664643 -15.296044  ...  12.396841            fear   FEA2.wav\n",
              "10 -15.761560 -16.816744 -14.256190  ...  12.318319            fear   FEA1.wav\n",
              "11 -14.492438 -14.238713 -17.598497  ...  11.722343         sarcasm   SAR2.wav\n",
              "\n",
              "[12 rows x 220 columns]"
            ]
          },
          "metadata": {
            "tags": []
          },
          "execution_count": 33
        }
      ]
    },
    {
      "cell_type": "markdown",
      "metadata": {
        "id": "9dBuIl47sSzY"
      },
      "source": [
        "## Mapping emotions to integers"
      ]
    },
    {
      "cell_type": "code",
      "metadata": {
        "id": "9gLuhfAxEc3K"
      },
      "source": [
        "new_emotions = []\n",
        "for i in range(len(df['actual_emotion'])):\n",
        "  if df.iloc[i]['actual_emotion']=='anger':\n",
        "    new_emotions.append(1)\n",
        "  if df.iloc[i]['actual_emotion']=='happiness':\n",
        "    new_emotions.append(2)\n",
        "  if df.iloc[i]['actual_emotion']=='fear':\n",
        "    new_emotions.append(3)\n",
        "  if df.iloc[i]['actual_emotion']=='neutral':\n",
        "    new_emotions.append(4)\n",
        "  if df.iloc[i]['actual_emotion']=='sadness':\n",
        "    new_emotions.append(5)\n",
        "  if df.iloc[i]['actual_emotion']=='sarcasm':\n",
        "    new_emotions.append(6)\n",
        " \n",
        "\n",
        "df['emotions_encoded'] = np.array(new_emotions)"
      ],
      "execution_count": null,
      "outputs": []
    },
    {
      "cell_type": "markdown",
      "metadata": {
        "id": "8b19L2X8FCJO"
      },
      "source": [
        "## Training features and labels"
      ]
    },
    {
      "cell_type": "code",
      "metadata": {
        "id": "H1ZajR61EDR8"
      },
      "source": [
        "X = df.iloc[:,:-3].values\n",
        "y1 = df['emotions_encoded'].values\n",
        "y2 = df['actual_emotion'].values"
      ],
      "execution_count": null,
      "outputs": []
    },
    {
      "cell_type": "markdown",
      "metadata": {
        "id": "2Sk14xjZFFwE"
      },
      "source": [
        "## Scaled training features for LogReg"
      ]
    },
    {
      "cell_type": "code",
      "metadata": {
        "id": "6sUk4zKMEcCU"
      },
      "source": [
        "sc_x = StandardScaler()\n",
        "X1 = sc_x.fit_transform(X) \n"
      ],
      "execution_count": null,
      "outputs": []
    },
    {
      "cell_type": "markdown",
      "metadata": {
        "id": "26C34pCtFv_c"
      },
      "source": [
        "## CNN transformation"
      ]
    },
    {
      "cell_type": "code",
      "metadata": {
        "id": "TyMYbnbMFy25"
      },
      "source": [
        "from keras.utils import np_utils\n",
        "from sklearn.preprocessing import LabelEncoder\n",
        "\n",
        "X_cnn = np.array(X)\n",
        "y_cnn = np.array(y1)\n",
        "\n",
        "\n",
        "lb = LabelEncoder()\n",
        "\n",
        "\n",
        "y_cnn = np_utils.to_categorical(lb.fit_transform(y_cnn.ravel()))\n",
        "x_cnn =np.expand_dims(X_cnn, axis=2)\n"
      ],
      "execution_count": null,
      "outputs": []
    },
    {
      "cell_type": "markdown",
      "metadata": {
        "id": "7ZsPGU2xGeY5"
      },
      "source": [
        "## Names"
      ]
    },
    {
      "cell_type": "code",
      "metadata": {
        "id": "W5VQVpWOGf_H"
      },
      "source": [
        "name =['anger','fear','happiness','neutral','sadness','sarcasm']"
      ],
      "execution_count": null,
      "outputs": []
    },
    {
      "cell_type": "markdown",
      "metadata": {
        "id": "GOGgm93Q7Qif"
      },
      "source": [
        "## Prediction Routine"
      ]
    },
    {
      "cell_type": "code",
      "metadata": {
        "id": "SElR6MJp7SBj"
      },
      "source": [
        "gnb_predict = gnb.predict(X)\n",
        "rf_predict = rf.predict(X)\n",
        "logreg_predict = logreg.predict(X1)\n",
        "adb_predict = adb.predict(X)\n",
        "dtree_gini_predict = dtree_g.predict(X)\n",
        "dtree_entropy_predict = dtree_e.predict(X)\n",
        "knn_predict = knn.predict(X)\n",
        "cnn_predict_intermediate = loaded_cnn.predict(x_cnn)\n",
        "cnn_predict = np.argmax(cnn_predict_intermediate,axis = 1)\n",
        "cnn_predict=cnn_predict+1"
      ],
      "execution_count": null,
      "outputs": []
    },
    {
      "cell_type": "code",
      "metadata": {
        "id": "cJvNvhXdL0_P"
      },
      "source": [
        "rf_predicted_emotions_int = []\n",
        "cnn_predicted_emotions_int = []\n",
        "\n",
        "for i in range(len(rf_predict)):\n",
        "  if rf_predict[i] == 1:\n",
        "    rf_predicted_emotions_int.append(\"anger\")\n",
        "  if rf_predict[i] == 2:\n",
        "    rf_predicted_emotions_int.append(\"fear\")\n",
        "  if rf_predict[i] == 3:\n",
        "    rf_predicted_emotions_int.append(\"happiness\")\n",
        "  if rf_predict[i] == 4:\n",
        "    rf_predicted_emotions_int.append(\"neutral\")\n",
        "  if rf_predict[i] == 5:\n",
        "    rf_predicted_emotions_int.append(\"sadness\")\n",
        "  if rf_predict[i] == 6:\n",
        "    rf_predicted_emotions_int.append(\"sarcasm\")\n",
        "\n",
        "for i in range(len(cnn_predict)):\n",
        "  if cnn_predict[i] == 1:\n",
        "    cnn_predicted_emotions_int.append(\"anger\")\n",
        "  if cnn_predict[i] == 2:\n",
        "    cnn_predicted_emotions_int.append(\"fear\")\n",
        "  if cnn_predict[i] == 3:\n",
        "    cnn_predicted_emotions_int.append(\"happiness\")\n",
        "  if cnn_predict[i] == 4:\n",
        "    cnn_predicted_emotions_int.append(\"neutral\")\n",
        "  if cnn_predict[i] == 5:\n",
        "    cnn_predicted_emotions_int.append(\"sadness\")\n",
        "  if cnn_predict[i] == 6:\n",
        "    cnn_predicted_emotions_int.append(\"sarcasm\")\n",
        " "
      ],
      "execution_count": null,
      "outputs": []
    },
    {
      "cell_type": "code",
      "metadata": {
        "id": "eYd4Q1W-N3lz"
      },
      "source": [
        "cnn_predicted_emotions = np.array(cnn_predicted_emotions_int)\n",
        "rf_predicted_emotions = np.array(rf_predicted_emotions_int)"
      ],
      "execution_count": null,
      "outputs": []
    },
    {
      "cell_type": "code",
      "metadata": {
        "id": "OeZia_BZQONf"
      },
      "source": [
        "file_name = df['file_name'].values\n",
        "actual_emotion = df['actual_emotion']"
      ],
      "execution_count": null,
      "outputs": []
    },
    {
      "cell_type": "code",
      "metadata": {
        "id": "if8-rmlMOsGj"
      },
      "source": [
        "predicted_df_dict = {'Naive Bayes':gnb_predict, 'LogReg':logreg_predict, 'AdaBoost':adb_predict,'D Tree Gini':dtree_gini_predict, 'D_Tree_E':dtree_entropy_predict,'Random Forest':rf_predicted_emotions, 'KNN':knn_predict, 'CNN':cnn_predicted_emotions, 'Actual Emotion':df['actual_emotion'].values, 'File name': df['file_name'].values}"
      ],
      "execution_count": null,
      "outputs": []
    },
    {
      "cell_type": "code",
      "metadata": {
        "id": "B6La2t95QKXM"
      },
      "source": [
        "predicted_df = pd.DataFrame(predicted_df_dict)"
      ],
      "execution_count": null,
      "outputs": []
    },
    {
      "cell_type": "code",
      "metadata": {
        "colab": {
          "base_uri": "https://localhost:8080/",
          "height": 402
        },
        "id": "X114me9HQKZn",
        "outputId": "35940398-8641-4220-865e-efcc4cc3c7e4"
      },
      "source": [
        "predicted_df"
      ],
      "execution_count": null,
      "outputs": [
        {
          "output_type": "execute_result",
          "data": {
            "text/html": [
              "<div>\n",
              "<style scoped>\n",
              "    .dataframe tbody tr th:only-of-type {\n",
              "        vertical-align: middle;\n",
              "    }\n",
              "\n",
              "    .dataframe tbody tr th {\n",
              "        vertical-align: top;\n",
              "    }\n",
              "\n",
              "    .dataframe thead th {\n",
              "        text-align: right;\n",
              "    }\n",
              "</style>\n",
              "<table border=\"1\" class=\"dataframe\">\n",
              "  <thead>\n",
              "    <tr style=\"text-align: right;\">\n",
              "      <th></th>\n",
              "      <th>Naive Bayes</th>\n",
              "      <th>LogReg</th>\n",
              "      <th>AdaBoost</th>\n",
              "      <th>D Tree Gini</th>\n",
              "      <th>D_Tree_E</th>\n",
              "      <th>Random Forest</th>\n",
              "      <th>KNN</th>\n",
              "      <th>CNN</th>\n",
              "      <th>Actual Emotion</th>\n",
              "      <th>File name</th>\n",
              "    </tr>\n",
              "  </thead>\n",
              "  <tbody>\n",
              "    <tr>\n",
              "      <th>0</th>\n",
              "      <td>neutral</td>\n",
              "      <td>sadness</td>\n",
              "      <td>sadness</td>\n",
              "      <td>anger</td>\n",
              "      <td>sadness</td>\n",
              "      <td>anger</td>\n",
              "      <td>fear</td>\n",
              "      <td>sadness</td>\n",
              "      <td>sarcasm</td>\n",
              "      <td>SAR1.wav</td>\n",
              "    </tr>\n",
              "    <tr>\n",
              "      <th>1</th>\n",
              "      <td>neutral</td>\n",
              "      <td>happiness</td>\n",
              "      <td>fear</td>\n",
              "      <td>fear</td>\n",
              "      <td>fear</td>\n",
              "      <td>fear</td>\n",
              "      <td>sadness</td>\n",
              "      <td>sarcasm</td>\n",
              "      <td>sadness</td>\n",
              "      <td>SAD2.wav</td>\n",
              "    </tr>\n",
              "    <tr>\n",
              "      <th>2</th>\n",
              "      <td>neutral</td>\n",
              "      <td>sarcasm</td>\n",
              "      <td>anger</td>\n",
              "      <td>anger</td>\n",
              "      <td>anger</td>\n",
              "      <td>happiness</td>\n",
              "      <td>fear</td>\n",
              "      <td>fear</td>\n",
              "      <td>anger</td>\n",
              "      <td>ANG1.wav</td>\n",
              "    </tr>\n",
              "    <tr>\n",
              "      <th>3</th>\n",
              "      <td>neutral</td>\n",
              "      <td>fear</td>\n",
              "      <td>neutral</td>\n",
              "      <td>fear</td>\n",
              "      <td>fear</td>\n",
              "      <td>happiness</td>\n",
              "      <td>fear</td>\n",
              "      <td>neutral</td>\n",
              "      <td>neutral</td>\n",
              "      <td>NEU1.wav</td>\n",
              "    </tr>\n",
              "    <tr>\n",
              "      <th>4</th>\n",
              "      <td>neutral</td>\n",
              "      <td>sadness</td>\n",
              "      <td>fear</td>\n",
              "      <td>fear</td>\n",
              "      <td>fear</td>\n",
              "      <td>happiness</td>\n",
              "      <td>fear</td>\n",
              "      <td>sarcasm</td>\n",
              "      <td>neutral</td>\n",
              "      <td>NEU2.wav</td>\n",
              "    </tr>\n",
              "    <tr>\n",
              "      <th>5</th>\n",
              "      <td>neutral</td>\n",
              "      <td>neutral</td>\n",
              "      <td>anger</td>\n",
              "      <td>anger</td>\n",
              "      <td>anger</td>\n",
              "      <td>anger</td>\n",
              "      <td>anger</td>\n",
              "      <td>fear</td>\n",
              "      <td>happiness</td>\n",
              "      <td>HAP1.wav</td>\n",
              "    </tr>\n",
              "    <tr>\n",
              "      <th>6</th>\n",
              "      <td>neutral</td>\n",
              "      <td>anger</td>\n",
              "      <td>fear</td>\n",
              "      <td>fear</td>\n",
              "      <td>anger</td>\n",
              "      <td>anger</td>\n",
              "      <td>anger</td>\n",
              "      <td>anger</td>\n",
              "      <td>happiness</td>\n",
              "      <td>HAP2.wav</td>\n",
              "    </tr>\n",
              "    <tr>\n",
              "      <th>7</th>\n",
              "      <td>neutral</td>\n",
              "      <td>anger</td>\n",
              "      <td>anger</td>\n",
              "      <td>anger</td>\n",
              "      <td>anger</td>\n",
              "      <td>fear</td>\n",
              "      <td>happiness</td>\n",
              "      <td>sadness</td>\n",
              "      <td>anger</td>\n",
              "      <td>ANG2.wav</td>\n",
              "    </tr>\n",
              "    <tr>\n",
              "      <th>8</th>\n",
              "      <td>neutral</td>\n",
              "      <td>neutral</td>\n",
              "      <td>neutral</td>\n",
              "      <td>neutral</td>\n",
              "      <td>neutral</td>\n",
              "      <td>sarcasm</td>\n",
              "      <td>fear</td>\n",
              "      <td>fear</td>\n",
              "      <td>sadness</td>\n",
              "      <td>SAD1.wav</td>\n",
              "    </tr>\n",
              "    <tr>\n",
              "      <th>9</th>\n",
              "      <td>neutral</td>\n",
              "      <td>anger</td>\n",
              "      <td>anger</td>\n",
              "      <td>anger</td>\n",
              "      <td>anger</td>\n",
              "      <td>happiness</td>\n",
              "      <td>fear</td>\n",
              "      <td>anger</td>\n",
              "      <td>fear</td>\n",
              "      <td>FEA2.wav</td>\n",
              "    </tr>\n",
              "    <tr>\n",
              "      <th>10</th>\n",
              "      <td>neutral</td>\n",
              "      <td>happiness</td>\n",
              "      <td>fear</td>\n",
              "      <td>anger</td>\n",
              "      <td>happiness</td>\n",
              "      <td>anger</td>\n",
              "      <td>anger</td>\n",
              "      <td>sadness</td>\n",
              "      <td>fear</td>\n",
              "      <td>FEA1.wav</td>\n",
              "    </tr>\n",
              "    <tr>\n",
              "      <th>11</th>\n",
              "      <td>fear</td>\n",
              "      <td>fear</td>\n",
              "      <td>fear</td>\n",
              "      <td>sadness</td>\n",
              "      <td>anger</td>\n",
              "      <td>happiness</td>\n",
              "      <td>fear</td>\n",
              "      <td>fear</td>\n",
              "      <td>sarcasm</td>\n",
              "      <td>SAR2.wav</td>\n",
              "    </tr>\n",
              "  </tbody>\n",
              "</table>\n",
              "</div>"
            ],
            "text/plain": [
              "   Naive Bayes     LogReg AdaBoost  ...      CNN Actual Emotion File name\n",
              "0      neutral    sadness  sadness  ...  sadness        sarcasm  SAR1.wav\n",
              "1      neutral  happiness     fear  ...  sarcasm        sadness  SAD2.wav\n",
              "2      neutral    sarcasm    anger  ...     fear          anger  ANG1.wav\n",
              "3      neutral       fear  neutral  ...  neutral        neutral  NEU1.wav\n",
              "4      neutral    sadness     fear  ...  sarcasm        neutral  NEU2.wav\n",
              "5      neutral    neutral    anger  ...     fear      happiness  HAP1.wav\n",
              "6      neutral      anger     fear  ...    anger      happiness  HAP2.wav\n",
              "7      neutral      anger    anger  ...  sadness          anger  ANG2.wav\n",
              "8      neutral    neutral  neutral  ...     fear        sadness  SAD1.wav\n",
              "9      neutral      anger    anger  ...    anger           fear  FEA2.wav\n",
              "10     neutral  happiness     fear  ...  sadness           fear  FEA1.wav\n",
              "11        fear       fear     fear  ...     fear        sarcasm  SAR2.wav\n",
              "\n",
              "[12 rows x 10 columns]"
            ]
          },
          "metadata": {
            "tags": []
          },
          "execution_count": 45
        }
      ]
    },
    {
      "cell_type": "code",
      "metadata": {
        "colab": {
          "base_uri": "https://localhost:8080/",
          "height": 106
        },
        "id": "nFOV4tHWQKdJ",
        "outputId": "e28cadfd-3c49-48bc-d0ea-b0682e55f45d"
      },
      "source": [
        "predicted_df[predicted_df['Actual Emotion']=='anger']"
      ],
      "execution_count": null,
      "outputs": [
        {
          "output_type": "execute_result",
          "data": {
            "text/html": [
              "<div>\n",
              "<style scoped>\n",
              "    .dataframe tbody tr th:only-of-type {\n",
              "        vertical-align: middle;\n",
              "    }\n",
              "\n",
              "    .dataframe tbody tr th {\n",
              "        vertical-align: top;\n",
              "    }\n",
              "\n",
              "    .dataframe thead th {\n",
              "        text-align: right;\n",
              "    }\n",
              "</style>\n",
              "<table border=\"1\" class=\"dataframe\">\n",
              "  <thead>\n",
              "    <tr style=\"text-align: right;\">\n",
              "      <th></th>\n",
              "      <th>Naive Bayes</th>\n",
              "      <th>LogReg</th>\n",
              "      <th>AdaBoost</th>\n",
              "      <th>D Tree Gini</th>\n",
              "      <th>D_Tree_E</th>\n",
              "      <th>Random Forest</th>\n",
              "      <th>KNN</th>\n",
              "      <th>CNN</th>\n",
              "      <th>Actual Emotion</th>\n",
              "      <th>File name</th>\n",
              "    </tr>\n",
              "  </thead>\n",
              "  <tbody>\n",
              "    <tr>\n",
              "      <th>2</th>\n",
              "      <td>neutral</td>\n",
              "      <td>sarcasm</td>\n",
              "      <td>anger</td>\n",
              "      <td>anger</td>\n",
              "      <td>anger</td>\n",
              "      <td>happiness</td>\n",
              "      <td>fear</td>\n",
              "      <td>fear</td>\n",
              "      <td>anger</td>\n",
              "      <td>ANG1.wav</td>\n",
              "    </tr>\n",
              "    <tr>\n",
              "      <th>7</th>\n",
              "      <td>neutral</td>\n",
              "      <td>anger</td>\n",
              "      <td>anger</td>\n",
              "      <td>anger</td>\n",
              "      <td>anger</td>\n",
              "      <td>fear</td>\n",
              "      <td>happiness</td>\n",
              "      <td>sadness</td>\n",
              "      <td>anger</td>\n",
              "      <td>ANG2.wav</td>\n",
              "    </tr>\n",
              "  </tbody>\n",
              "</table>\n",
              "</div>"
            ],
            "text/plain": [
              "  Naive Bayes   LogReg AdaBoost  ...      CNN Actual Emotion File name\n",
              "2     neutral  sarcasm    anger  ...     fear          anger  ANG1.wav\n",
              "7     neutral    anger    anger  ...  sadness          anger  ANG2.wav\n",
              "\n",
              "[2 rows x 10 columns]"
            ]
          },
          "metadata": {
            "tags": []
          },
          "execution_count": 46
        }
      ]
    },
    {
      "cell_type": "code",
      "metadata": {
        "colab": {
          "base_uri": "https://localhost:8080/",
          "height": 106
        },
        "id": "rtIkw5vNRWH5",
        "outputId": "a1ad7249-a2ac-4f66-ef39-1dab3f46cecf"
      },
      "source": [
        "predicted_df[predicted_df['Actual Emotion']=='fear']"
      ],
      "execution_count": null,
      "outputs": [
        {
          "output_type": "execute_result",
          "data": {
            "text/html": [
              "<div>\n",
              "<style scoped>\n",
              "    .dataframe tbody tr th:only-of-type {\n",
              "        vertical-align: middle;\n",
              "    }\n",
              "\n",
              "    .dataframe tbody tr th {\n",
              "        vertical-align: top;\n",
              "    }\n",
              "\n",
              "    .dataframe thead th {\n",
              "        text-align: right;\n",
              "    }\n",
              "</style>\n",
              "<table border=\"1\" class=\"dataframe\">\n",
              "  <thead>\n",
              "    <tr style=\"text-align: right;\">\n",
              "      <th></th>\n",
              "      <th>Naive Bayes</th>\n",
              "      <th>LogReg</th>\n",
              "      <th>AdaBoost</th>\n",
              "      <th>D Tree Gini</th>\n",
              "      <th>D_Tree_E</th>\n",
              "      <th>Random Forest</th>\n",
              "      <th>KNN</th>\n",
              "      <th>CNN</th>\n",
              "      <th>Actual Emotion</th>\n",
              "      <th>File name</th>\n",
              "    </tr>\n",
              "  </thead>\n",
              "  <tbody>\n",
              "    <tr>\n",
              "      <th>9</th>\n",
              "      <td>neutral</td>\n",
              "      <td>anger</td>\n",
              "      <td>anger</td>\n",
              "      <td>anger</td>\n",
              "      <td>anger</td>\n",
              "      <td>happiness</td>\n",
              "      <td>fear</td>\n",
              "      <td>anger</td>\n",
              "      <td>fear</td>\n",
              "      <td>FEA2.wav</td>\n",
              "    </tr>\n",
              "    <tr>\n",
              "      <th>10</th>\n",
              "      <td>neutral</td>\n",
              "      <td>happiness</td>\n",
              "      <td>fear</td>\n",
              "      <td>anger</td>\n",
              "      <td>happiness</td>\n",
              "      <td>anger</td>\n",
              "      <td>anger</td>\n",
              "      <td>sadness</td>\n",
              "      <td>fear</td>\n",
              "      <td>FEA1.wav</td>\n",
              "    </tr>\n",
              "  </tbody>\n",
              "</table>\n",
              "</div>"
            ],
            "text/plain": [
              "   Naive Bayes     LogReg AdaBoost  ...      CNN Actual Emotion File name\n",
              "9      neutral      anger    anger  ...    anger           fear  FEA2.wav\n",
              "10     neutral  happiness     fear  ...  sadness           fear  FEA1.wav\n",
              "\n",
              "[2 rows x 10 columns]"
            ]
          },
          "metadata": {
            "tags": []
          },
          "execution_count": 47
        }
      ]
    },
    {
      "cell_type": "code",
      "metadata": {
        "colab": {
          "base_uri": "https://localhost:8080/",
          "height": 106
        },
        "id": "G38l3G0SRYxq",
        "outputId": "bc4e7433-6713-4dfa-9d40-f3fea7856e6a"
      },
      "source": [
        "predicted_df[predicted_df['Actual Emotion']=='happiness']"
      ],
      "execution_count": null,
      "outputs": [
        {
          "output_type": "execute_result",
          "data": {
            "text/html": [
              "<div>\n",
              "<style scoped>\n",
              "    .dataframe tbody tr th:only-of-type {\n",
              "        vertical-align: middle;\n",
              "    }\n",
              "\n",
              "    .dataframe tbody tr th {\n",
              "        vertical-align: top;\n",
              "    }\n",
              "\n",
              "    .dataframe thead th {\n",
              "        text-align: right;\n",
              "    }\n",
              "</style>\n",
              "<table border=\"1\" class=\"dataframe\">\n",
              "  <thead>\n",
              "    <tr style=\"text-align: right;\">\n",
              "      <th></th>\n",
              "      <th>Naive Bayes</th>\n",
              "      <th>LogReg</th>\n",
              "      <th>AdaBoost</th>\n",
              "      <th>D Tree Gini</th>\n",
              "      <th>D_Tree_E</th>\n",
              "      <th>Random Forest</th>\n",
              "      <th>KNN</th>\n",
              "      <th>CNN</th>\n",
              "      <th>Actual Emotion</th>\n",
              "      <th>File name</th>\n",
              "    </tr>\n",
              "  </thead>\n",
              "  <tbody>\n",
              "    <tr>\n",
              "      <th>5</th>\n",
              "      <td>neutral</td>\n",
              "      <td>neutral</td>\n",
              "      <td>anger</td>\n",
              "      <td>anger</td>\n",
              "      <td>anger</td>\n",
              "      <td>anger</td>\n",
              "      <td>anger</td>\n",
              "      <td>fear</td>\n",
              "      <td>happiness</td>\n",
              "      <td>HAP1.wav</td>\n",
              "    </tr>\n",
              "    <tr>\n",
              "      <th>6</th>\n",
              "      <td>neutral</td>\n",
              "      <td>anger</td>\n",
              "      <td>fear</td>\n",
              "      <td>fear</td>\n",
              "      <td>anger</td>\n",
              "      <td>anger</td>\n",
              "      <td>anger</td>\n",
              "      <td>anger</td>\n",
              "      <td>happiness</td>\n",
              "      <td>HAP2.wav</td>\n",
              "    </tr>\n",
              "  </tbody>\n",
              "</table>\n",
              "</div>"
            ],
            "text/plain": [
              "  Naive Bayes   LogReg AdaBoost  ...    CNN Actual Emotion File name\n",
              "5     neutral  neutral    anger  ...   fear      happiness  HAP1.wav\n",
              "6     neutral    anger     fear  ...  anger      happiness  HAP2.wav\n",
              "\n",
              "[2 rows x 10 columns]"
            ]
          },
          "metadata": {
            "tags": []
          },
          "execution_count": 48
        }
      ]
    },
    {
      "cell_type": "code",
      "metadata": {
        "colab": {
          "base_uri": "https://localhost:8080/",
          "height": 106
        },
        "id": "9XHSCPYPRbD6",
        "outputId": "8ef9f0b8-e3cf-4b5c-de70-b2547cd30cd7"
      },
      "source": [
        "predicted_df[predicted_df['Actual Emotion']=='neutral']"
      ],
      "execution_count": null,
      "outputs": [
        {
          "output_type": "execute_result",
          "data": {
            "text/html": [
              "<div>\n",
              "<style scoped>\n",
              "    .dataframe tbody tr th:only-of-type {\n",
              "        vertical-align: middle;\n",
              "    }\n",
              "\n",
              "    .dataframe tbody tr th {\n",
              "        vertical-align: top;\n",
              "    }\n",
              "\n",
              "    .dataframe thead th {\n",
              "        text-align: right;\n",
              "    }\n",
              "</style>\n",
              "<table border=\"1\" class=\"dataframe\">\n",
              "  <thead>\n",
              "    <tr style=\"text-align: right;\">\n",
              "      <th></th>\n",
              "      <th>Naive Bayes</th>\n",
              "      <th>LogReg</th>\n",
              "      <th>AdaBoost</th>\n",
              "      <th>D Tree Gini</th>\n",
              "      <th>D_Tree_E</th>\n",
              "      <th>Random Forest</th>\n",
              "      <th>KNN</th>\n",
              "      <th>CNN</th>\n",
              "      <th>Actual Emotion</th>\n",
              "      <th>File name</th>\n",
              "    </tr>\n",
              "  </thead>\n",
              "  <tbody>\n",
              "    <tr>\n",
              "      <th>3</th>\n",
              "      <td>neutral</td>\n",
              "      <td>fear</td>\n",
              "      <td>neutral</td>\n",
              "      <td>fear</td>\n",
              "      <td>fear</td>\n",
              "      <td>happiness</td>\n",
              "      <td>fear</td>\n",
              "      <td>neutral</td>\n",
              "      <td>neutral</td>\n",
              "      <td>NEU1.wav</td>\n",
              "    </tr>\n",
              "    <tr>\n",
              "      <th>4</th>\n",
              "      <td>neutral</td>\n",
              "      <td>sadness</td>\n",
              "      <td>fear</td>\n",
              "      <td>fear</td>\n",
              "      <td>fear</td>\n",
              "      <td>happiness</td>\n",
              "      <td>fear</td>\n",
              "      <td>sarcasm</td>\n",
              "      <td>neutral</td>\n",
              "      <td>NEU2.wav</td>\n",
              "    </tr>\n",
              "  </tbody>\n",
              "</table>\n",
              "</div>"
            ],
            "text/plain": [
              "  Naive Bayes   LogReg AdaBoost  ...      CNN Actual Emotion File name\n",
              "3     neutral     fear  neutral  ...  neutral        neutral  NEU1.wav\n",
              "4     neutral  sadness     fear  ...  sarcasm        neutral  NEU2.wav\n",
              "\n",
              "[2 rows x 10 columns]"
            ]
          },
          "metadata": {
            "tags": []
          },
          "execution_count": 49
        }
      ]
    },
    {
      "cell_type": "code",
      "metadata": {
        "colab": {
          "base_uri": "https://localhost:8080/",
          "height": 106
        },
        "id": "5KVVOywDReQb",
        "outputId": "d2a0ea78-478d-485d-cceb-1824d7453d1f"
      },
      "source": [
        "predicted_df[predicted_df['Actual Emotion']=='sadness']"
      ],
      "execution_count": null,
      "outputs": [
        {
          "output_type": "execute_result",
          "data": {
            "text/html": [
              "<div>\n",
              "<style scoped>\n",
              "    .dataframe tbody tr th:only-of-type {\n",
              "        vertical-align: middle;\n",
              "    }\n",
              "\n",
              "    .dataframe tbody tr th {\n",
              "        vertical-align: top;\n",
              "    }\n",
              "\n",
              "    .dataframe thead th {\n",
              "        text-align: right;\n",
              "    }\n",
              "</style>\n",
              "<table border=\"1\" class=\"dataframe\">\n",
              "  <thead>\n",
              "    <tr style=\"text-align: right;\">\n",
              "      <th></th>\n",
              "      <th>Naive Bayes</th>\n",
              "      <th>LogReg</th>\n",
              "      <th>AdaBoost</th>\n",
              "      <th>D Tree Gini</th>\n",
              "      <th>D_Tree_E</th>\n",
              "      <th>Random Forest</th>\n",
              "      <th>KNN</th>\n",
              "      <th>CNN</th>\n",
              "      <th>Actual Emotion</th>\n",
              "      <th>File name</th>\n",
              "    </tr>\n",
              "  </thead>\n",
              "  <tbody>\n",
              "    <tr>\n",
              "      <th>1</th>\n",
              "      <td>neutral</td>\n",
              "      <td>happiness</td>\n",
              "      <td>fear</td>\n",
              "      <td>fear</td>\n",
              "      <td>fear</td>\n",
              "      <td>fear</td>\n",
              "      <td>sadness</td>\n",
              "      <td>sarcasm</td>\n",
              "      <td>sadness</td>\n",
              "      <td>SAD2.wav</td>\n",
              "    </tr>\n",
              "    <tr>\n",
              "      <th>8</th>\n",
              "      <td>neutral</td>\n",
              "      <td>neutral</td>\n",
              "      <td>neutral</td>\n",
              "      <td>neutral</td>\n",
              "      <td>neutral</td>\n",
              "      <td>sarcasm</td>\n",
              "      <td>fear</td>\n",
              "      <td>fear</td>\n",
              "      <td>sadness</td>\n",
              "      <td>SAD1.wav</td>\n",
              "    </tr>\n",
              "  </tbody>\n",
              "</table>\n",
              "</div>"
            ],
            "text/plain": [
              "  Naive Bayes     LogReg AdaBoost  ...      CNN Actual Emotion File name\n",
              "1     neutral  happiness     fear  ...  sarcasm        sadness  SAD2.wav\n",
              "8     neutral    neutral  neutral  ...     fear        sadness  SAD1.wav\n",
              "\n",
              "[2 rows x 10 columns]"
            ]
          },
          "metadata": {
            "tags": []
          },
          "execution_count": 50
        }
      ]
    },
    {
      "cell_type": "code",
      "metadata": {
        "colab": {
          "base_uri": "https://localhost:8080/",
          "height": 106
        },
        "id": "CQtZ1-OaRgwB",
        "outputId": "3ac11c8d-c232-4382-9ec9-f3c065c0a83b"
      },
      "source": [
        "predicted_df[predicted_df['Actual Emotion']=='sarcasm']"
      ],
      "execution_count": null,
      "outputs": [
        {
          "output_type": "execute_result",
          "data": {
            "text/html": [
              "<div>\n",
              "<style scoped>\n",
              "    .dataframe tbody tr th:only-of-type {\n",
              "        vertical-align: middle;\n",
              "    }\n",
              "\n",
              "    .dataframe tbody tr th {\n",
              "        vertical-align: top;\n",
              "    }\n",
              "\n",
              "    .dataframe thead th {\n",
              "        text-align: right;\n",
              "    }\n",
              "</style>\n",
              "<table border=\"1\" class=\"dataframe\">\n",
              "  <thead>\n",
              "    <tr style=\"text-align: right;\">\n",
              "      <th></th>\n",
              "      <th>Naive Bayes</th>\n",
              "      <th>LogReg</th>\n",
              "      <th>AdaBoost</th>\n",
              "      <th>D Tree Gini</th>\n",
              "      <th>D_Tree_E</th>\n",
              "      <th>Random Forest</th>\n",
              "      <th>KNN</th>\n",
              "      <th>CNN</th>\n",
              "      <th>Actual Emotion</th>\n",
              "      <th>File name</th>\n",
              "    </tr>\n",
              "  </thead>\n",
              "  <tbody>\n",
              "    <tr>\n",
              "      <th>0</th>\n",
              "      <td>neutral</td>\n",
              "      <td>sadness</td>\n",
              "      <td>sadness</td>\n",
              "      <td>anger</td>\n",
              "      <td>sadness</td>\n",
              "      <td>anger</td>\n",
              "      <td>fear</td>\n",
              "      <td>sadness</td>\n",
              "      <td>sarcasm</td>\n",
              "      <td>SAR1.wav</td>\n",
              "    </tr>\n",
              "    <tr>\n",
              "      <th>11</th>\n",
              "      <td>fear</td>\n",
              "      <td>fear</td>\n",
              "      <td>fear</td>\n",
              "      <td>sadness</td>\n",
              "      <td>anger</td>\n",
              "      <td>happiness</td>\n",
              "      <td>fear</td>\n",
              "      <td>fear</td>\n",
              "      <td>sarcasm</td>\n",
              "      <td>SAR2.wav</td>\n",
              "    </tr>\n",
              "  </tbody>\n",
              "</table>\n",
              "</div>"
            ],
            "text/plain": [
              "   Naive Bayes   LogReg AdaBoost  ...      CNN Actual Emotion File name\n",
              "0      neutral  sadness  sadness  ...  sadness        sarcasm  SAR1.wav\n",
              "11        fear     fear     fear  ...     fear        sarcasm  SAR2.wav\n",
              "\n",
              "[2 rows x 10 columns]"
            ]
          },
          "metadata": {
            "tags": []
          },
          "execution_count": 51
        }
      ]
    },
    {
      "cell_type": "markdown",
      "metadata": {
        "id": "cqkD4XKylza-"
      },
      "source": [
        "## Classification reports and confusion matrices"
      ]
    },
    {
      "cell_type": "markdown",
      "metadata": {
        "id": "cj34u_-0l1lS"
      },
      "source": [
        "AdaBoost"
      ]
    },
    {
      "cell_type": "code",
      "metadata": {
        "colab": {
          "base_uri": "https://localhost:8080/",
          "height": 558
        },
        "id": "DGxTUmdBl2gk",
        "outputId": "02660dad-23ff-477f-d909-8b62c3531484"
      },
      "source": [
        "print(classification_report(y2, adb_predict, target_names=name))\n",
        "\n",
        "\n",
        "cf_matrix = confusion_matrix(y2, adb_predict,)\n",
        "sns.heatmap(cf_matrix, annot=True, xticklabels=name, yticklabels=name)"
      ],
      "execution_count": null,
      "outputs": [
        {
          "output_type": "stream",
          "text": [
            "              precision    recall  f1-score   support\n",
            "\n",
            "       anger       0.50      1.00      0.67         2\n",
            "        fear       0.20      0.50      0.29         2\n",
            "   happiness       0.00      0.00      0.00         2\n",
            "     neutral       0.50      0.50      0.50         2\n",
            "     sadness       0.00      0.00      0.00         2\n",
            "     sarcasm       0.00      0.00      0.00         2\n",
            "\n",
            "    accuracy                           0.33        12\n",
            "   macro avg       0.20      0.33      0.24        12\n",
            "weighted avg       0.20      0.33      0.24        12\n",
            "\n"
          ],
          "name": "stdout"
        },
        {
          "output_type": "stream",
          "text": [
            "/usr/local/lib/python3.7/dist-packages/sklearn/metrics/_classification.py:1272: UndefinedMetricWarning: Precision and F-score are ill-defined and being set to 0.0 in labels with no predicted samples. Use `zero_division` parameter to control this behavior.\n",
            "  _warn_prf(average, modifier, msg_start, len(result))\n"
          ],
          "name": "stderr"
        },
        {
          "output_type": "execute_result",
          "data": {
            "text/plain": [
              "<matplotlib.axes._subplots.AxesSubplot at 0x7fc1f602ae10>"
            ]
          },
          "metadata": {
            "tags": []
          },
          "execution_count": 52
        },
        {
          "output_type": "display_data",
          "data": {
            "image/png": "[encoded data removed]",
            "text/plain": [
              "<Figure size 432x288 with 2 Axes>"
            ]
          },
          "metadata": {
            "tags": [],
            "needs_background": "light"
          }
        }
      ]
    },
    {
      "cell_type": "markdown",
      "metadata": {
        "id": "sgncNJepmYa-"
      },
      "source": [
        "LogReg"
      ]
    },
    {
      "cell_type": "code",
      "metadata": {
        "colab": {
          "base_uri": "https://localhost:8080/",
          "height": 504
        },
        "id": "IVT6BjEwme7f",
        "outputId": "a4eae162-9c20-4e5a-9a30-78546cc26b25"
      },
      "source": [
        "print(classification_report(y2, logreg_predict, target_names=name))\n",
        "\n",
        "\n",
        "cf_matrix = confusion_matrix(y2, logreg_predict,)\n",
        "sns.heatmap(cf_matrix, annot=True, xticklabels=name, yticklabels=name)"
      ],
      "execution_count": null,
      "outputs": [
        {
          "output_type": "stream",
          "text": [
            "              precision    recall  f1-score   support\n",
            "\n",
            "       anger       0.33      0.50      0.40         2\n",
            "        fear       0.00      0.00      0.00         2\n",
            "   happiness       0.00      0.00      0.00         2\n",
            "     neutral       0.00      0.00      0.00         2\n",
            "     sadness       0.00      0.00      0.00         2\n",
            "     sarcasm       0.00      0.00      0.00         2\n",
            "\n",
            "    accuracy                           0.08        12\n",
            "   macro avg       0.06      0.08      0.07        12\n",
            "weighted avg       0.06      0.08      0.07        12\n",
            "\n"
          ],
          "name": "stdout"
        },
        {
          "output_type": "execute_result",
          "data": {
            "text/plain": [
              "<matplotlib.axes._subplots.AxesSubplot at 0x7fc1f6028050>"
            ]
          },
          "metadata": {
            "tags": []
          },
          "execution_count": 53
        },
        {
          "output_type": "display_data",
          "data": {
            "image/png": "[encoded data removed]",
            "text/plain": [
              "<Figure size 432x288 with 2 Axes>"
            ]
          },
          "metadata": {
            "tags": [],
            "needs_background": "light"
          }
        }
      ]
    },
    {
      "cell_type": "markdown",
      "metadata": {
        "id": "OzQ4gfs5mdKN"
      },
      "source": [
        "Decision Tree Gini\n",
        "\n"
      ]
    },
    {
      "cell_type": "code",
      "metadata": {
        "colab": {
          "base_uri": "https://localhost:8080/",
          "height": 558
        },
        "id": "WzmJLmjzl8fA",
        "outputId": "4c61aaa2-9b9c-47a6-f1ae-22b26b96a29e"
      },
      "source": [
        "print(classification_report(y2, dtree_gini_predict, target_names=name))\n",
        "\n",
        "\n",
        "cf_matrix = confusion_matrix(y2, dtree_gini_predict,)\n",
        "sns.heatmap(cf_matrix, annot=True, xticklabels=name, yticklabels=name)"
      ],
      "execution_count": null,
      "outputs": [
        {
          "output_type": "stream",
          "text": [
            "              precision    recall  f1-score   support\n",
            "\n",
            "       anger       0.33      1.00      0.50         2\n",
            "        fear       0.00      0.00      0.00         2\n",
            "   happiness       0.00      0.00      0.00         2\n",
            "     neutral       0.00      0.00      0.00         2\n",
            "     sadness       0.00      0.00      0.00         2\n",
            "     sarcasm       0.00      0.00      0.00         2\n",
            "\n",
            "    accuracy                           0.17        12\n",
            "   macro avg       0.06      0.17      0.08        12\n",
            "weighted avg       0.06      0.17      0.08        12\n",
            "\n"
          ],
          "name": "stdout"
        },
        {
          "output_type": "stream",
          "text": [
            "/usr/local/lib/python3.7/dist-packages/sklearn/metrics/_classification.py:1272: UndefinedMetricWarning: Precision and F-score are ill-defined and being set to 0.0 in labels with no predicted samples. Use `zero_division` parameter to control this behavior.\n",
            "  _warn_prf(average, modifier, msg_start, len(result))\n"
          ],
          "name": "stderr"
        },
        {
          "output_type": "execute_result",
          "data": {
            "text/plain": [
              "<matplotlib.axes._subplots.AxesSubplot at 0x7fc1f3c73e10>"
            ]
          },
          "metadata": {
            "tags": []
          },
          "execution_count": 54
        },
        {
          "output_type": "display_data",
          "data": {
            "image/png": "[encoded data removed]",
            "text/plain": [
              "<Figure size 432x288 with 2 Axes>"
            ]
          },
          "metadata": {
            "tags": [],
            "needs_background": "light"
          }
        }
      ]
    },
    {
      "cell_type": "markdown",
      "metadata": {
        "id": "IAC_LlQImuU0"
      },
      "source": [
        "Decision Tree Entropy"
      ]
    },
    {
      "cell_type": "code",
      "metadata": {
        "colab": {
          "base_uri": "https://localhost:8080/",
          "height": 558
        },
        "id": "EDzS96KXmvlm",
        "outputId": "062795a8-070d-4221-f0bb-3a5fca3e3fd4"
      },
      "source": [
        "print(classification_report(y2, dtree_entropy_predict, target_names=name))\n",
        "\n",
        "\n",
        "cf_matrix = confusion_matrix(y2, dtree_entropy_predict,)\n",
        "sns.heatmap(cf_matrix, annot=True, xticklabels=name, yticklabels=name)"
      ],
      "execution_count": null,
      "outputs": [
        {
          "output_type": "stream",
          "text": [
            "              precision    recall  f1-score   support\n",
            "\n",
            "       anger       0.33      1.00      0.50         2\n",
            "        fear       0.00      0.00      0.00         2\n",
            "   happiness       0.00      0.00      0.00         2\n",
            "     neutral       0.00      0.00      0.00         2\n",
            "     sadness       0.00      0.00      0.00         2\n",
            "     sarcasm       0.00      0.00      0.00         2\n",
            "\n",
            "    accuracy                           0.17        12\n",
            "   macro avg       0.06      0.17      0.08        12\n",
            "weighted avg       0.06      0.17      0.08        12\n",
            "\n"
          ],
          "name": "stdout"
        },
        {
          "output_type": "stream",
          "text": [
            "/usr/local/lib/python3.7/dist-packages/sklearn/metrics/_classification.py:1272: UndefinedMetricWarning: Precision and F-score are ill-defined and being set to 0.0 in labels with no predicted samples. Use `zero_division` parameter to control this behavior.\n",
            "  _warn_prf(average, modifier, msg_start, len(result))\n"
          ],
          "name": "stderr"
        },
        {
          "output_type": "execute_result",
          "data": {
            "text/plain": [
              "<matplotlib.axes._subplots.AxesSubplot at 0x7fc1f41ba190>"
            ]
          },
          "metadata": {
            "tags": []
          },
          "execution_count": 55
        },
        {
          "output_type": "display_data",
          "data": {
            "image/png": "[encoded data removed]",
            "text/plain": [
              "<Figure size 432x288 with 2 Axes>"
            ]
          },
          "metadata": {
            "tags": [],
            "needs_background": "light"
          }
        }
      ]
    },
    {
      "cell_type": "markdown",
      "metadata": {
        "id": "998MCDX6mz0C"
      },
      "source": [
        "Naive Bayes"
      ]
    },
    {
      "cell_type": "code",
      "metadata": {
        "colab": {
          "base_uri": "https://localhost:8080/",
          "height": 558
        },
        "id": "qTSwDJ8Pm6hp",
        "outputId": "8b66bbc0-7688-404a-e858-05513446ea48"
      },
      "source": [
        "print(classification_report(y2, gnb_predict, target_names=name))\n",
        "\n",
        "\n",
        "cf_matrix = confusion_matrix(y2, gnb_predict,)\n",
        "sns.heatmap(cf_matrix, annot=True, xticklabels=name, yticklabels=name)"
      ],
      "execution_count": null,
      "outputs": [
        {
          "output_type": "stream",
          "text": [
            "              precision    recall  f1-score   support\n",
            "\n",
            "       anger       0.00      0.00      0.00         2\n",
            "        fear       0.00      0.00      0.00         2\n",
            "   happiness       0.00      0.00      0.00         2\n",
            "     neutral       0.18      1.00      0.31         2\n",
            "     sadness       0.00      0.00      0.00         2\n",
            "     sarcasm       0.00      0.00      0.00         2\n",
            "\n",
            "    accuracy                           0.17        12\n",
            "   macro avg       0.03      0.17      0.05        12\n",
            "weighted avg       0.03      0.17      0.05        12\n",
            "\n"
          ],
          "name": "stdout"
        },
        {
          "output_type": "stream",
          "text": [
            "/usr/local/lib/python3.7/dist-packages/sklearn/metrics/_classification.py:1272: UndefinedMetricWarning: Precision and F-score are ill-defined and being set to 0.0 in labels with no predicted samples. Use `zero_division` parameter to control this behavior.\n",
            "  _warn_prf(average, modifier, msg_start, len(result))\n"
          ],
          "name": "stderr"
        },
        {
          "output_type": "execute_result",
          "data": {
            "text/plain": [
              "<matplotlib.axes._subplots.AxesSubplot at 0x7fc1f3a7d9d0>"
            ]
          },
          "metadata": {
            "tags": []
          },
          "execution_count": 56
        },
        {
          "output_type": "display_data",
          "data": {
            "image/png": "[encoded data removed]",
            "text/plain": [
              "<Figure size 432x288 with 2 Axes>"
            ]
          },
          "metadata": {
            "tags": [],
            "needs_background": "light"
          }
        }
      ]
    },
    {
      "cell_type": "markdown",
      "metadata": {
        "id": "ZndFxkzZnKJu"
      },
      "source": [
        "KNN"
      ]
    },
    {
      "cell_type": "code",
      "metadata": {
        "colab": {
          "base_uri": "https://localhost:8080/",
          "height": 558
        },
        "id": "X0HZSzxznJiR",
        "outputId": "686b99da-8b4e-4aa1-b6bf-61bd4471feb1"
      },
      "source": [
        "print(classification_report(y2, knn_predict, target_names=name))\n",
        "\n",
        "\n",
        "cf_matrix = confusion_matrix(y2, knn_predict,)\n",
        "sns.heatmap(cf_matrix, annot=True, xticklabels=name, yticklabels=name)"
      ],
      "execution_count": null,
      "outputs": [
        {
          "output_type": "stream",
          "text": [
            "              precision    recall  f1-score   support\n",
            "\n",
            "       anger       0.00      0.00      0.00         2\n",
            "        fear       0.14      0.50      0.22         2\n",
            "   happiness       0.00      0.00      0.00         2\n",
            "     neutral       0.00      0.00      0.00         2\n",
            "     sadness       1.00      0.50      0.67         2\n",
            "     sarcasm       0.00      0.00      0.00         2\n",
            "\n",
            "    accuracy                           0.17        12\n",
            "   macro avg       0.19      0.17      0.15        12\n",
            "weighted avg       0.19      0.17      0.15        12\n",
            "\n"
          ],
          "name": "stdout"
        },
        {
          "output_type": "stream",
          "text": [
            "/usr/local/lib/python3.7/dist-packages/sklearn/metrics/_classification.py:1272: UndefinedMetricWarning: Precision and F-score are ill-defined and being set to 0.0 in labels with no predicted samples. Use `zero_division` parameter to control this behavior.\n",
            "  _warn_prf(average, modifier, msg_start, len(result))\n"
          ],
          "name": "stderr"
        },
        {
          "output_type": "execute_result",
          "data": {
            "text/plain": [
              "<matplotlib.axes._subplots.AxesSubplot at 0x7fc1f38ffc90>"
            ]
          },
          "metadata": {
            "tags": []
          },
          "execution_count": 57
        },
        {
          "output_type": "display_data",
          "data": {
            "image/png": "[encoded data removed]",
            "text/plain": [
              "<Figure size 432x288 with 2 Axes>"
            ]
          },
          "metadata": {
            "tags": [],
            "needs_background": "light"
          }
        }
      ]
    },
    {
      "cell_type": "markdown",
      "metadata": {
        "id": "C1yLx0ZJm8sU"
      },
      "source": [
        " CNN"
      ]
    },
    {
      "cell_type": "code",
      "metadata": {
        "colab": {
          "base_uri": "https://localhost:8080/",
          "height": 558
        },
        "id": "9f9C_cWMm4ju",
        "outputId": "1f47284c-ffad-4687-d46c-0d7c364e5158"
      },
      "source": [
        "print(classification_report(y2, cnn_predicted_emotions, target_names=name))\n",
        "\n",
        "\n",
        "cf_matrix = confusion_matrix(y2, cnn_predicted_emotions,)\n",
        "sns.heatmap(cf_matrix, annot=True, xticklabels=name, yticklabels=name)"
      ],
      "execution_count": null,
      "outputs": [
        {
          "output_type": "stream",
          "text": [
            "              precision    recall  f1-score   support\n",
            "\n",
            "       anger       0.00      0.00      0.00         2\n",
            "        fear       0.00      0.00      0.00         2\n",
            "   happiness       0.00      0.00      0.00         2\n",
            "     neutral       1.00      0.50      0.67         2\n",
            "     sadness       0.00      0.00      0.00         2\n",
            "     sarcasm       0.00      0.00      0.00         2\n",
            "\n",
            "    accuracy                           0.08        12\n",
            "   macro avg       0.17      0.08      0.11        12\n",
            "weighted avg       0.17      0.08      0.11        12\n",
            "\n"
          ],
          "name": "stdout"
        },
        {
          "output_type": "stream",
          "text": [
            "/usr/local/lib/python3.7/dist-packages/sklearn/metrics/_classification.py:1272: UndefinedMetricWarning: Precision and F-score are ill-defined and being set to 0.0 in labels with no predicted samples. Use `zero_division` parameter to control this behavior.\n",
            "  _warn_prf(average, modifier, msg_start, len(result))\n"
          ],
          "name": "stderr"
        },
        {
          "output_type": "execute_result",
          "data": {
            "text/plain": [
              "<matplotlib.axes._subplots.AxesSubplot at 0x7fc1f389d290>"
            ]
          },
          "metadata": {
            "tags": []
          },
          "execution_count": 58
        },
        {
          "output_type": "display_data",
          "data": {
            "image/png": "[encoded data removed]",
            "text/plain": [
              "<Figure size 432x288 with 2 Axes>"
            ]
          },
          "metadata": {
            "tags": [],
            "needs_background": "light"
          }
        }
      ]
    },
    {
      "cell_type": "markdown",
      "metadata": {
        "id": "r0Lgmm4enN2e"
      },
      "source": [
        "RF"
      ]
    },
    {
      "cell_type": "code",
      "metadata": {
        "colab": {
          "base_uri": "https://localhost:8080/",
          "height": 558
        },
        "id": "-KHgpmCZnI97",
        "outputId": "998bf7eb-3b93-4afe-8d20-b82032982655"
      },
      "source": [
        "print(classification_report(y2, rf_predicted_emotions, target_names=name))\n",
        "\n",
        "\n",
        "cf_matrix = confusion_matrix(y2, rf_predicted_emotions,)\n",
        "sns.heatmap(cf_matrix, annot=True, xticklabels=name, yticklabels=name)"
      ],
      "execution_count": null,
      "outputs": [
        {
          "output_type": "stream",
          "text": [
            "              precision    recall  f1-score   support\n",
            "\n",
            "       anger       0.00      0.00      0.00       2.0\n",
            "        fear       0.00      0.00      0.00       2.0\n",
            "   happiness       0.00      0.00      0.00       2.0\n",
            "     neutral       0.00      0.00      0.00       2.0\n",
            "     sadness       0.00      0.00      0.00       2.0\n",
            "     sarcasm       0.00      0.00      0.00       2.0\n",
            "\n",
            "    accuracy                           0.00      12.0\n",
            "   macro avg       0.00      0.00      0.00      12.0\n",
            "weighted avg       0.00      0.00      0.00      12.0\n",
            "\n"
          ],
          "name": "stdout"
        },
        {
          "output_type": "stream",
          "text": [
            "/usr/local/lib/python3.7/dist-packages/sklearn/metrics/_classification.py:1272: UndefinedMetricWarning: Precision and F-score are ill-defined and being set to 0.0 in labels with no predicted samples. Use `zero_division` parameter to control this behavior.\n",
            "  _warn_prf(average, modifier, msg_start, len(result))\n"
          ],
          "name": "stderr"
        },
        {
          "output_type": "execute_result",
          "data": {
            "text/plain": [
              "<matplotlib.axes._subplots.AxesSubplot at 0x7fc1f3871690>"
            ]
          },
          "metadata": {
            "tags": []
          },
          "execution_count": 59
        },
        {
          "output_type": "display_data",
          "data": {
            "image/png": "[encoded data removed]",
            "text/plain": [
              "<Figure size 432x288 with 2 Axes>"
            ]
          },
          "metadata": {
            "tags": [],
            "needs_background": "light"
          }
        }
      ]
    },
    {
      "cell_type": "code",
      "metadata": {
        "id": "GdGExQyttqJf"
      },
      "source": [
        ""
      ],
      "execution_count": null,
      "outputs": []
    }
  ]
}